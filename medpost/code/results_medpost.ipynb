{
 "cells": [
  {
   "cell_type": "markdown",
   "metadata": {},
   "source": [
    "# Explore experiences result on conll2003"
   ]
  },
  {
   "cell_type": "code",
   "execution_count": 1,
   "metadata": {},
   "outputs": [],
   "source": [
    "import os\n",
    "import numpy as np\n",
    "import pandas as pd \n",
    "import matplotlib.pyplot as plt \n",
    "import random\n",
    "random.seed(12)\n",
    "\n",
    "import sys\n",
    "sys.path.insert(1, '../../utils_paper/')\n",
    "from resultsUtils import build_jsons, json2pandas\n",
    "from visuClass import visualizer, yaset_pred\n",
    "\n",
    "%load_ext autoreload\n",
    "%autoreload 2"
   ]
  },
  {
   "cell_type": "markdown",
   "metadata": {},
   "source": [
    "# Build jsons"
   ]
  },
  {
   "cell_type": "code",
   "execution_count": 2,
   "metadata": {},
   "outputs": [],
   "source": [
    "# fetch results and store in different paths (do not launch everytime, it's super slow!!!!)\n",
    "path2jsons = '../jsons/'"
   ]
  },
  {
   "cell_type": "code",
   "execution_count": 3,
   "metadata": {},
   "outputs": [
    {
     "name": "stderr",
     "output_type": "stream",
     "text": [
      "100%|██████████| 39/39 [00:57<00:00,  1.49s/it]"
     ]
    },
    {
     "name": "stdout",
     "output_type": "stream",
     "text": [
      "WARNING : Not complete experiment for ../results/yaset-learn-medpost-20180726-114934/yaset-learn-20180726-114934.log!\n",
      "WARNING : Not complete experiment for ../results/yaset-learn-medpost-20180726-114936/yaset-learn-20180726-114936.log!\n",
      "WARNING : Not complete experiment for ../results/yaset-learn-medpost-20180726-114939/yaset-learn-20180726-114939.log!\n",
      "WARNING : Not complete experiment for ../results/yaset-learn-medpost-20180726-114941/yaset-learn-20180726-114941.log!\n",
      "WARNING : Not complete experiment for ../results/yaset-learn-medpost-20180726-114943/yaset-learn-20180726-114943.log!\n",
      "WARNING : Not complete experiment for ../results/yaset-learn-medpost-20180726-114945/yaset-learn-20180726-114945.log!\n",
      "WARNING : Not complete experiment for ../results/yaset-learn-medpost-20180726-114948/yaset-learn-20180726-114948.log!\n",
      "WARNING : Not complete experiment for ../results/yaset-learn-medpost-20180726-114955/yaset-learn-20180726-114955.log!\n",
      "Collected 30 xperiences in ../results/ and stored all in ../jsons/\n"
     ]
    },
    {
     "name": "stderr",
     "output_type": "stream",
     "text": [
      "\n"
     ]
    }
   ],
   "source": [
    "build_jsons('../results/', path2jsons, show_path=False)"
   ]
  },
  {
   "cell_type": "markdown",
   "metadata": {},
   "source": [
    "# Analysis"
   ]
  },
  {
   "cell_type": "code",
   "execution_count": 4,
   "metadata": {},
   "outputs": [],
   "source": [
    "df = json2pandas(path2jsons, trajs = False, fixed_iter=None, verbose=False)"
   ]
  },
  {
   "cell_type": "markdown",
   "metadata": {},
   "source": [
    "##  Medpost embeddings"
   ]
  },
  {
   "cell_type": "code",
   "execution_count": 5,
   "metadata": {},
   "outputs": [
    {
     "name": "stdout",
     "output_type": "stream",
     "text": [
      "(30, 17)\n"
     ]
    },
    {
     "data": {
      "text/html": [
       "<div>\n",
       "<style scoped>\n",
       "    .dataframe tbody tr th:only-of-type {\n",
       "        vertical-align: middle;\n",
       "    }\n",
       "\n",
       "    .dataframe tbody tr th {\n",
       "        vertical-align: top;\n",
       "    }\n",
       "\n",
       "    .dataframe thead th {\n",
       "        text-align: right;\n",
       "    }\n",
       "</style>\n",
       "<table border=\"1\" class=\"dataframe\">\n",
       "  <thead>\n",
       "    <tr style=\"text-align: right;\">\n",
       "      <th></th>\n",
       "      <th>best_iter</th>\n",
       "      <th>char_embedding_size</th>\n",
       "      <th>char_hidden_layer_size</th>\n",
       "      <th>cpu_cores</th>\n",
       "      <th>dropout_rate</th>\n",
       "      <th>f1</th>\n",
       "      <th>feature_data</th>\n",
       "      <th>hidden_layer_size</th>\n",
       "      <th>nb_iter</th>\n",
       "      <th>nb_train_tokens</th>\n",
       "      <th>opt_decay_use</th>\n",
       "      <th>patience</th>\n",
       "      <th>precision</th>\n",
       "      <th>recall</th>\n",
       "      <th>time_elapsed</th>\n",
       "      <th>word_emb_dim</th>\n",
       "      <th>word_emb_train</th>\n",
       "    </tr>\n",
       "  </thead>\n",
       "  <tbody>\n",
       "    <tr>\n",
       "      <th>0</th>\n",
       "      <td>26</td>\n",
       "      <td>24</td>\n",
       "      <td>32</td>\n",
       "      <td>20</td>\n",
       "      <td>0.5</td>\n",
       "      <td>97.45</td>\n",
       "      <td>False</td>\n",
       "      <td>64</td>\n",
       "      <td>36</td>\n",
       "      <td>154552.0</td>\n",
       "      <td>False</td>\n",
       "      <td>10</td>\n",
       "      <td>97.36</td>\n",
       "      <td>97.55</td>\n",
       "      <td>136.0</td>\n",
       "      <td>25</td>\n",
       "      <td>True</td>\n",
       "    </tr>\n",
       "    <tr>\n",
       "      <th>0</th>\n",
       "      <td>5</td>\n",
       "      <td>24</td>\n",
       "      <td>32</td>\n",
       "      <td>20</td>\n",
       "      <td>0.5</td>\n",
       "      <td>95.38</td>\n",
       "      <td>False</td>\n",
       "      <td>64</td>\n",
       "      <td>15</td>\n",
       "      <td>154552.0</td>\n",
       "      <td>False</td>\n",
       "      <td>10</td>\n",
       "      <td>95.21</td>\n",
       "      <td>95.54</td>\n",
       "      <td>56.0</td>\n",
       "      <td>25</td>\n",
       "      <td>True</td>\n",
       "    </tr>\n",
       "    <tr>\n",
       "      <th>0</th>\n",
       "      <td>18</td>\n",
       "      <td>24</td>\n",
       "      <td>32</td>\n",
       "      <td>20</td>\n",
       "      <td>0.5</td>\n",
       "      <td>96.73</td>\n",
       "      <td>False</td>\n",
       "      <td>64</td>\n",
       "      <td>28</td>\n",
       "      <td>154552.0</td>\n",
       "      <td>False</td>\n",
       "      <td>10</td>\n",
       "      <td>96.66</td>\n",
       "      <td>96.81</td>\n",
       "      <td>105.0</td>\n",
       "      <td>25</td>\n",
       "      <td>True</td>\n",
       "    </tr>\n",
       "    <tr>\n",
       "      <th>0</th>\n",
       "      <td>17</td>\n",
       "      <td>24</td>\n",
       "      <td>32</td>\n",
       "      <td>20</td>\n",
       "      <td>0.5</td>\n",
       "      <td>97.85</td>\n",
       "      <td>False</td>\n",
       "      <td>64</td>\n",
       "      <td>27</td>\n",
       "      <td>154552.0</td>\n",
       "      <td>False</td>\n",
       "      <td>10</td>\n",
       "      <td>97.82</td>\n",
       "      <td>97.87</td>\n",
       "      <td>102.0</td>\n",
       "      <td>25</td>\n",
       "      <td>True</td>\n",
       "    </tr>\n",
       "    <tr>\n",
       "      <th>0</th>\n",
       "      <td>30</td>\n",
       "      <td>24</td>\n",
       "      <td>32</td>\n",
       "      <td>20</td>\n",
       "      <td>0.5</td>\n",
       "      <td>96.69</td>\n",
       "      <td>False</td>\n",
       "      <td>64</td>\n",
       "      <td>40</td>\n",
       "      <td>154552.0</td>\n",
       "      <td>False</td>\n",
       "      <td>10</td>\n",
       "      <td>96.64</td>\n",
       "      <td>96.74</td>\n",
       "      <td>150.0</td>\n",
       "      <td>25</td>\n",
       "      <td>True</td>\n",
       "    </tr>\n",
       "  </tbody>\n",
       "</table>\n",
       "</div>"
      ],
      "text/plain": [
       "  best_iter char_embedding_size char_hidden_layer_size cpu_cores  \\\n",
       "0        26                  24                     32        20   \n",
       "0         5                  24                     32        20   \n",
       "0        18                  24                     32        20   \n",
       "0        17                  24                     32        20   \n",
       "0        30                  24                     32        20   \n",
       "\n",
       "   dropout_rate     f1 feature_data hidden_layer_size nb_iter  \\\n",
       "0           0.5  97.45        False                64      36   \n",
       "0           0.5  95.38        False                64      15   \n",
       "0           0.5  96.73        False                64      28   \n",
       "0           0.5  97.85        False                64      27   \n",
       "0           0.5  96.69        False                64      40   \n",
       "\n",
       "   nb_train_tokens opt_decay_use patience  precision  recall  time_elapsed  \\\n",
       "0         154552.0         False       10      97.36   97.55         136.0   \n",
       "0         154552.0         False       10      95.21   95.54          56.0   \n",
       "0         154552.0         False       10      96.66   96.81         105.0   \n",
       "0         154552.0         False       10      97.82   97.87         102.0   \n",
       "0         154552.0         False       10      96.64   96.74         150.0   \n",
       "\n",
       "  word_emb_dim word_emb_train  \n",
       "0           25           True  \n",
       "0           25           True  \n",
       "0           25           True  \n",
       "0           25           True  \n",
       "0           25           True  "
      ]
     },
     "execution_count": 5,
     "metadata": {},
     "output_type": "execute_result"
    }
   ],
   "source": [
    "#df['best_iter'].plot(kind = 'hist', bins = 30)\n",
    "print(df.shape)\n",
    "df.head(5)"
   ]
  },
  {
   "cell_type": "code",
   "execution_count": 6,
   "metadata": {},
   "outputs": [
    {
     "data": {
      "image/png": "[encoded data removed]",
      "text/plain": [
       "<Figure size 720x288 with 2 Axes>"
      ]
     },
     "metadata": {},
     "output_type": "display_data"
    },
    {
     "name": "stdout",
     "output_type": "stream",
     "text": [
      "average:  96.49000000000001\n",
      "sd:  1.1684319977359967\n",
      "max diff:  3.819999999999993\n",
      "max diff perc:  0.04062533234074224\n"
     ]
    }
   ],
   "source": [
    "plt.figure(figsize=(10,4))\n",
    "plt.boxplot(df['f1'], vert=False, showmeans=True)\n",
    "plt.scatter(df['f1'], np.repeat(1.1, len(df['f1'])), alpha = 0.7, c = df.time_elapsed)\n",
    "plt.xlabel('f1 score')\n",
    "plt.title('f1 scores for the medpost corpus')\n",
    "plt.colorbar()\n",
    "plt.show()\n",
    "print('average: ', np.mean(df['f1']))\n",
    "print('sd: ', np.std(df['f1']))\n",
    "print('max diff: ', np.max(df['f1']) - np.min(df['f1']))\n",
    "print('max diff perc: ', (np.max(df['f1']) - np.min(df['f1']))/np.min(df['f1']))"
   ]
  },
  {
   "cell_type": "markdown",
   "metadata": {},
   "source": [
    "## Measure micro scores on dev\n",
    "### Building results from prediction"
   ]
  },
  {
   "cell_type": "code",
   "execution_count": 11,
   "metadata": {},
   "outputs": [
    {
     "name": "stderr",
     "output_type": "stream",
     "text": [
      "  0%|          | 0/30 [00:00<?, ?it/s]"
     ]
    },
    {
     "name": "stdout",
     "output_type": "stream",
     "text": [
      "Predicted labels: ['II', 'JJ', 'NNS', 'VVN', 'MC', 'SYM', 'NN', 'VVD', 'DD', 'RR', 'VVNJ', 'CC', 'PND', 'PNR', 'VBB', 'VVB', 'VBZ', 'PUNCT', 'VBD', 'VM', 'VVGN', 'VVG', 'CST', 'VHD', 'PNG', 'VVGJ', 'GE', 'TO', 'VVI', 'PN', 'VHB', 'VVZ', 'VBI', 'VBN', 'VDB', 'NNP', 'CS', 'DB', 'JJR', 'CSN', 'EX', 'VBG', 'VDZ', 'VDD', 'JJT', 'RRT', 'VHZ', 'VHI', 'VHG', 'RRR']\n"
     ]
    },
    {
     "name": "stderr",
     "output_type": "stream",
     "text": [
      "  3%|▎         | 1/30 [00:03<01:31,  3.17s/it]"
     ]
    },
    {
     "name": "stdout",
     "output_type": "stream",
     "text": [
      "Predicted labels: ['II', 'JJ', 'NNS', 'VVN', 'MC', 'SYM', 'NN', 'VVD', 'DD', 'RR', 'VVNJ', 'CC', 'PND', 'PNR', 'VBB', 'VVB', 'VBZ', 'PUNCT', 'VBD', 'VM', 'VVGN', 'VVG', 'CST', 'VHD', 'PNG', 'VVGJ', 'GE', 'TO', 'VVI', 'PN', 'VHB', 'VVZ', 'VBI', 'VBN', 'VDB', 'NNP', 'CS', 'DB', 'JJR', 'CSN', 'EX', 'VBG', 'VDZ', 'VDD', 'JJT', 'RRT', 'VHZ', 'VHI', 'VHG', 'RRR']\n"
     ]
    },
    {
     "name": "stderr",
     "output_type": "stream",
     "text": [
      "  7%|▋         | 2/30 [00:06<01:32,  3.29s/it]"
     ]
    },
    {
     "name": "stdout",
     "output_type": "stream",
     "text": [
      "Predicted labels: ['II', 'JJ', 'NNS', 'VVN', 'MC', 'SYM', 'NN', 'VVD', 'DD', 'RR', 'VVNJ', 'CC', 'PND', 'PNR', 'VBB', 'VVB', 'VBZ', 'PUNCT', 'VBD', 'VM', 'VVGN', 'VVG', 'CST', 'VHD', 'PNG', 'VVGJ', 'GE', 'TO', 'VVI', 'PN', 'VHB', 'VVZ', 'VBI', 'VBN', 'VDB', 'NNP', 'CS', 'DB', 'JJR', 'CSN', 'EX', 'VBG', 'VDZ', 'VDD', 'JJT', 'RRT', 'VHZ', 'VHI', 'VHG', 'RRR']\n"
     ]
    },
    {
     "name": "stderr",
     "output_type": "stream",
     "text": [
      " 10%|█         | 3/30 [00:09<01:27,  3.23s/it]"
     ]
    },
    {
     "name": "stdout",
     "output_type": "stream",
     "text": [
      "Predicted labels: ['II', 'JJ', 'NNS', 'VVN', 'MC', 'SYM', 'NN', 'VVD', 'DD', 'RR', 'VVNJ', 'CC', 'PND', 'PNR', 'VBB', 'VVB', 'VBZ', 'PUNCT', 'VBD', 'VM', 'VVGN', 'VVG', 'CST', 'VHD', 'PNG', 'VVGJ', 'GE', 'TO', 'VVI', 'PN', 'VHB', 'VVZ', 'VBI', 'VBN', 'VDB', 'NNP', 'CS', 'DB', 'JJR', 'CSN', 'EX', 'VBG', 'VDZ', 'VDD', 'JJT', 'RRT', 'VHZ', 'VHI', 'VHG', 'RRR']\n"
     ]
    },
    {
     "name": "stderr",
     "output_type": "stream",
     "text": [
      " 13%|█▎        | 4/30 [00:13<01:25,  3.27s/it]"
     ]
    },
    {
     "name": "stdout",
     "output_type": "stream",
     "text": [
      "Predicted labels: ['II', 'JJ', 'NNS', 'VVN', 'MC', 'SYM', 'NN', 'VVD', 'DD', 'RR', 'VVNJ', 'CC', 'PND', 'PNR', 'VBB', 'VVB', 'VBZ', 'PUNCT', 'VBD', 'VM', 'VVGN', 'VVG', 'CST', 'VHD', 'PNG', 'VVGJ', 'GE', 'TO', 'VVI', 'PN', 'VHB', 'VVZ', 'VBI', 'VBN', 'VDB', 'NNP', 'CS', 'DB', 'JJR', 'CSN', 'EX', 'VBG', 'VDZ', 'VDD', 'JJT', 'RRT', 'VHZ', 'VHI', 'VHG', 'RRR']\n"
     ]
    },
    {
     "name": "stderr",
     "output_type": "stream",
     "text": [
      " 17%|█▋        | 5/30 [00:16<01:21,  3.25s/it]"
     ]
    },
    {
     "name": "stdout",
     "output_type": "stream",
     "text": [
      "Predicted labels: ['II', 'JJ', 'NNS', 'VVN', 'MC', 'SYM', 'NN', 'VVD', 'DD', 'RR', 'VVNJ', 'CC', 'PND', 'PNR', 'VBB', 'VVB', 'VBZ', 'PUNCT', 'VBD', 'VM', 'VVGN', 'VVG', 'CST', 'VHD', 'PNG', 'VVGJ', 'GE', 'TO', 'VVI', 'PN', 'VHB', 'VVZ', 'VBI', 'VBN', 'VDB', 'NNP', 'CS', 'DB', 'JJR', 'CSN', 'EX', 'VBG', 'VDZ', 'VDD', 'JJT', 'RRT', 'VHZ', 'VHI', 'VHG', 'RRR']\n"
     ]
    },
    {
     "name": "stderr",
     "output_type": "stream",
     "text": [
      " 20%|██        | 6/30 [00:19<01:17,  3.22s/it]"
     ]
    },
    {
     "name": "stdout",
     "output_type": "stream",
     "text": [
      "Predicted labels: ['II', 'JJ', 'NNS', 'VVN', 'MC', 'SYM', 'NN', 'VVD', 'DD', 'RR', 'VVNJ', 'CC', 'PND', 'PNR', 'VBB', 'VVB', 'VBZ', 'PUNCT', 'VBD', 'VM', 'VVGN', 'VVG', 'CST', 'VHD', 'PNG', 'VVGJ', 'GE', 'TO', 'VVI', 'PN', 'VHB', 'VVZ', 'VBI', 'VBN', 'VDB', 'NNP', 'CS', 'DB', 'JJR', 'CSN', 'EX', 'VBG', 'VDZ', 'VDD', 'JJT', 'RRT', 'VHZ', 'VHI', 'VHG', 'RRR']\n"
     ]
    },
    {
     "name": "stderr",
     "output_type": "stream",
     "text": [
      " 23%|██▎       | 7/30 [00:22<01:14,  3.26s/it]"
     ]
    },
    {
     "name": "stdout",
     "output_type": "stream",
     "text": [
      "Predicted labels: ['II', 'JJ', 'NNS', 'VVN', 'MC', 'SYM', 'NN', 'VVD', 'DD', 'RR', 'VVNJ', 'CC', 'PND', 'PNR', 'VBB', 'VVB', 'VBZ', 'PUNCT', 'VBD', 'VM', 'VVGN', 'VVG', 'CST', 'VHD', 'PNG', 'VVGJ', 'GE', 'TO', 'VVI', 'PN', 'VHB', 'VVZ', 'VBI', 'VBN', 'VDB', 'NNP', 'CS', 'DB', 'JJR', 'CSN', 'EX', 'VBG', 'VDZ', 'VDD', 'JJT', 'RRT', 'VHZ', 'VHI', 'VHG', 'RRR']\n"
     ]
    },
    {
     "name": "stderr",
     "output_type": "stream",
     "text": [
      " 27%|██▋       | 8/30 [00:25<01:11,  3.24s/it]"
     ]
    },
    {
     "name": "stdout",
     "output_type": "stream",
     "text": [
      "Predicted labels: ['II', 'JJ', 'NNS', 'VVN', 'MC', 'SYM', 'NN', 'VVD', 'DD', 'RR', 'VVNJ', 'CC', 'PND', 'PNR', 'VBB', 'VVB', 'VBZ', 'PUNCT', 'VBD', 'VM', 'VVGN', 'VVG', 'CST', 'VHD', 'PNG', 'VVGJ', 'GE', 'TO', 'VVI', 'PN', 'VHB', 'VVZ', 'VBI', 'VBN', 'VDB', 'NNP', 'CS', 'DB', 'JJR', 'CSN', 'EX', 'VBG', 'VDZ', 'VDD', 'JJT', 'RRT', 'VHZ', 'VHI', 'VHG', 'RRR']\n"
     ]
    },
    {
     "name": "stderr",
     "output_type": "stream",
     "text": [
      " 30%|███       | 9/30 [00:29<01:07,  3.22s/it]"
     ]
    },
    {
     "name": "stdout",
     "output_type": "stream",
     "text": [
      "Predicted labels: ['II', 'JJ', 'NNS', 'VVN', 'MC', 'SYM', 'NN', 'VVD', 'DD', 'RR', 'VVNJ', 'CC', 'PND', 'PNR', 'VBB', 'VVB', 'VBZ', 'PUNCT', 'VBD', 'VM', 'VVGN', 'VVG', 'CST', 'VHD', 'PNG', 'VVGJ', 'GE', 'TO', 'VVI', 'PN', 'VHB', 'VVZ', 'VBI', 'VBN', 'VDB', 'NNP', 'CS', 'DB', 'JJR', 'CSN', 'EX', 'VBG', 'VDZ', 'VDD', 'JJT', 'RRT', 'VHZ', 'VHI', 'VHG', 'RRR']\n"
     ]
    },
    {
     "name": "stderr",
     "output_type": "stream",
     "text": [
      " 33%|███▎      | 10/30 [00:32<01:04,  3.23s/it]"
     ]
    },
    {
     "name": "stdout",
     "output_type": "stream",
     "text": [
      "Predicted labels: ['II', 'JJ', 'NNS', 'VVN', 'MC', 'SYM', 'NN', 'VVD', 'DD', 'RR', 'VVNJ', 'CC', 'PND', 'PNR', 'VBB', 'VVB', 'VBZ', 'PUNCT', 'VBD', 'VM', 'VVGN', 'VVG', 'CST', 'VHD', 'PNG', 'VVGJ', 'GE', 'TO', 'VVI', 'PN', 'VHB', 'VVZ', 'VBI', 'VBN', 'VDB', 'NNP', 'CS', 'DB', 'JJR', 'CSN', 'EX', 'VBG', 'VDZ', 'VDD', 'JJT', 'RRT', 'VHZ', 'VHI', 'VHG', 'RRR']\n"
     ]
    },
    {
     "name": "stderr",
     "output_type": "stream",
     "text": [
      " 37%|███▋      | 11/30 [00:35<01:01,  3.24s/it]"
     ]
    },
    {
     "name": "stdout",
     "output_type": "stream",
     "text": [
      "Predicted labels: ['II', 'JJ', 'NNS', 'VVN', 'MC', 'SYM', 'NN', 'VVD', 'DD', 'RR', 'VVNJ', 'CC', 'PND', 'PNR', 'VBB', 'VVB', 'VBZ', 'PUNCT', 'VBD', 'VM', 'VVGN', 'VVG', 'CST', 'VHD', 'PNG', 'VVGJ', 'GE', 'TO', 'VVI', 'PN', 'VHB', 'VVZ', 'VBI', 'VBN', 'VDB', 'NNP', 'CS', 'DB', 'JJR', 'CSN', 'EX', 'VBG', 'VDZ', 'VDD', 'JJT', 'RRT', 'VHZ', 'VHI', 'VHG', 'RRR']\n"
     ]
    },
    {
     "name": "stderr",
     "output_type": "stream",
     "text": [
      " 40%|████      | 12/30 [00:38<00:58,  3.23s/it]"
     ]
    },
    {
     "name": "stdout",
     "output_type": "stream",
     "text": [
      "Predicted labels: ['II', 'JJ', 'NNS', 'VVN', 'MC', 'SYM', 'NN', 'VVD', 'DD', 'RR', 'VVNJ', 'CC', 'PND', 'PNR', 'VBB', 'VVB', 'VBZ', 'PUNCT', 'VBD', 'VM', 'VVGN', 'VVG', 'CST', 'VHD', 'PNG', 'VVGJ', 'GE', 'TO', 'VVI', 'PN', 'VHB', 'VVZ', 'VBI', 'VBN', 'VDB', 'NNP', 'CS', 'DB', 'JJR', 'CSN', 'EX', 'VBG', 'VDZ', 'VDD', 'JJT', 'RRT', 'VHZ', 'VHI', 'VHG', 'RRR']\n"
     ]
    },
    {
     "name": "stderr",
     "output_type": "stream",
     "text": [
      " 43%|████▎     | 13/30 [00:41<00:54,  3.23s/it]"
     ]
    },
    {
     "name": "stdout",
     "output_type": "stream",
     "text": [
      "Predicted labels: ['II', 'JJ', 'NNS', 'VVN', 'MC', 'SYM', 'NN', 'VVD', 'DD', 'RR', 'VVNJ', 'CC', 'PND', 'PNR', 'VBB', 'VVB', 'VBZ', 'PUNCT', 'VBD', 'VM', 'VVGN', 'VVG', 'CST', 'VHD', 'PNG', 'VVGJ', 'GE', 'TO', 'VVI', 'PN', 'VHB', 'VVZ', 'VBI', 'VBN', 'VDB', 'NNP', 'CS', 'DB', 'JJR', 'CSN', 'EX', 'VBG', 'VDZ', 'VDD', 'JJT', 'RRT', 'VHZ', 'VHI', 'VHG', 'RRR']\n"
     ]
    },
    {
     "name": "stderr",
     "output_type": "stream",
     "text": [
      " 47%|████▋     | 14/30 [00:45<00:51,  3.22s/it]"
     ]
    },
    {
     "name": "stdout",
     "output_type": "stream",
     "text": [
      "Predicted labels: ['II', 'JJ', 'NNS', 'VVN', 'MC', 'SYM', 'NN', 'VVD', 'DD', 'RR', 'VVNJ', 'CC', 'PND', 'PNR', 'VBB', 'VVB', 'VBZ', 'PUNCT', 'VBD', 'VM', 'VVGN', 'VVG', 'CST', 'VHD', 'PNG', 'VVGJ', 'GE', 'TO', 'VVI', 'PN', 'VHB', 'VVZ', 'VBI', 'VBN', 'VDB', 'NNP', 'CS', 'DB', 'JJR', 'CSN', 'EX', 'VBG', 'VDZ', 'VDD', 'JJT', 'RRT', 'VHZ', 'VHI', 'VHG', 'RRR']\n"
     ]
    },
    {
     "name": "stderr",
     "output_type": "stream",
     "text": [
      " 50%|█████     | 15/30 [00:48<00:48,  3.21s/it]"
     ]
    },
    {
     "name": "stdout",
     "output_type": "stream",
     "text": [
      "Predicted labels: ['II', 'JJ', 'NNS', 'VVN', 'MC', 'SYM', 'NN', 'VVD', 'DD', 'RR', 'VVNJ', 'CC', 'PND', 'PNR', 'VBB', 'VVB', 'VBZ', 'PUNCT', 'VBD', 'VM', 'VVGN', 'VVG', 'CST', 'VHD', 'PNG', 'VVGJ', 'GE', 'TO', 'VVI', 'PN', 'VHB', 'VVZ', 'VBI', 'VBN', 'VDB', 'NNP', 'CS', 'DB', 'JJR', 'CSN', 'EX', 'VBG', 'VDZ', 'VDD', 'JJT', 'RRT', 'VHZ', 'VHI', 'VHG', 'RRR']\n"
     ]
    },
    {
     "name": "stderr",
     "output_type": "stream",
     "text": [
      " 53%|█████▎    | 16/30 [00:51<00:45,  3.22s/it]"
     ]
    },
    {
     "name": "stdout",
     "output_type": "stream",
     "text": [
      "Predicted labels: ['II', 'JJ', 'NNS', 'VVN', 'MC', 'SYM', 'NN', 'VVD', 'DD', 'RR', 'VVNJ', 'CC', 'PND', 'PNR', 'VBB', 'VVB', 'VBZ', 'PUNCT', 'VBD', 'VM', 'VVGN', 'VVG', 'CST', 'VHD', 'PNG', 'VVGJ', 'GE', 'TO', 'VVI', 'PN', 'VHB', 'VVZ', 'VBI', 'VBN', 'VDB', 'NNP', 'CS', 'DB', 'JJR', 'CSN', 'EX', 'VBG', 'VDZ', 'VDD', 'JJT', 'RRT', 'VHZ', 'VHI', 'VHG', 'RRR']\n"
     ]
    },
    {
     "name": "stderr",
     "output_type": "stream",
     "text": [
      " 57%|█████▋    | 17/30 [00:54<00:41,  3.23s/it]"
     ]
    },
    {
     "name": "stdout",
     "output_type": "stream",
     "text": [
      "Predicted labels: ['II', 'JJ', 'NNS', 'VVN', 'MC', 'SYM', 'NN', 'VVD', 'DD', 'RR', 'VVNJ', 'CC', 'PND', 'PNR', 'VBB', 'VVB', 'VBZ', 'PUNCT', 'VBD', 'VM', 'VVGN', 'VVG', 'CST', 'VHD', 'PNG', 'VVGJ', 'GE', 'TO', 'VVI', 'PN', 'VHB', 'VVZ', 'VBI', 'VBN', 'VDB', 'NNP', 'CS', 'DB', 'JJR', 'CSN', 'EX', 'VBG', 'VDZ', 'VDD', 'JJT', 'RRT', 'VHZ', 'VHI', 'VHG', 'RRR']\n"
     ]
    },
    {
     "name": "stderr",
     "output_type": "stream",
     "text": [
      " 60%|██████    | 18/30 [00:58<00:38,  3.23s/it]"
     ]
    },
    {
     "name": "stdout",
     "output_type": "stream",
     "text": [
      "Predicted labels: ['II', 'JJ', 'NNS', 'VVN', 'MC', 'SYM', 'NN', 'VVD', 'DD', 'RR', 'VVNJ', 'CC', 'PND', 'PNR', 'VBB', 'VVB', 'VBZ', 'PUNCT', 'VBD', 'VM', 'VVGN', 'VVG', 'CST', 'VHD', 'PNG', 'VVGJ', 'GE', 'TO', 'VVI', 'PN', 'VHB', 'VVZ', 'VBI', 'VBN', 'VDB', 'NNP', 'CS', 'DB', 'JJR', 'CSN', 'EX', 'VBG', 'VDZ', 'VDD', 'JJT', 'RRT', 'VHZ', 'VHI', 'VHG', 'RRR']\n"
     ]
    },
    {
     "name": "stderr",
     "output_type": "stream",
     "text": [
      " 63%|██████▎   | 19/30 [01:01<00:35,  3.23s/it]"
     ]
    },
    {
     "name": "stdout",
     "output_type": "stream",
     "text": [
      "Predicted labels: ['II', 'JJ', 'NNS', 'VVN', 'MC', 'SYM', 'NN', 'VVD', 'DD', 'RR', 'VVNJ', 'CC', 'PND', 'PNR', 'VBB', 'VVB', 'VBZ', 'PUNCT', 'VBD', 'VM', 'VVGN', 'VVG', 'CST', 'VHD', 'PNG', 'VVGJ', 'GE', 'TO', 'VVI', 'PN', 'VHB', 'VVZ', 'VBI', 'VBN', 'VDB', 'NNP', 'CS', 'DB', 'JJR', 'CSN', 'EX', 'VBG', 'VDZ', 'VDD', 'JJT', 'RRT', 'VHZ', 'VHI', 'VHG', 'RRR']\n"
     ]
    },
    {
     "name": "stderr",
     "output_type": "stream",
     "text": [
      " 67%|██████▋   | 20/30 [01:04<00:32,  3.23s/it]"
     ]
    },
    {
     "name": "stdout",
     "output_type": "stream",
     "text": [
      "Predicted labels: ['II', 'JJ', 'NNS', 'VVN', 'MC', 'SYM', 'NN', 'VVD', 'DD', 'RR', 'VVNJ', 'CC', 'PND', 'PNR', 'VBB', 'VVB', 'VBZ', 'PUNCT', 'VBD', 'VM', 'VVGN', 'VVG', 'CST', 'VHD', 'PNG', 'VVGJ', 'GE', 'TO', 'VVI', 'PN', 'VHB', 'VVZ', 'VBI', 'VBN', 'VDB', 'NNP', 'CS', 'DB', 'JJR', 'CSN', 'EX', 'VBG', 'VDZ', 'VDD', 'JJT', 'RRT', 'VHZ', 'VHI', 'VHG', 'RRR']\n"
     ]
    },
    {
     "name": "stderr",
     "output_type": "stream",
     "text": [
      " 70%|███████   | 21/30 [01:07<00:29,  3.23s/it]"
     ]
    },
    {
     "name": "stdout",
     "output_type": "stream",
     "text": [
      "Predicted labels: ['II', 'JJ', 'NNS', 'VVN', 'MC', 'SYM', 'NN', 'VVD', 'DD', 'RR', 'VVNJ', 'CC', 'PND', 'PNR', 'VBB', 'VVB', 'VBZ', 'PUNCT', 'VBD', 'VM', 'VVGN', 'VVG', 'CST', 'VHD', 'PNG', 'VVGJ', 'GE', 'TO', 'VVI', 'PN', 'VHB', 'VVZ', 'VBI', 'VBN', 'VDB', 'NNP', 'CS', 'DB', 'JJR', 'CSN', 'EX', 'VBG', 'VDZ', 'VDD', 'JJT', 'RRT', 'VHZ', 'VHI', 'VHG', 'RRR']\n"
     ]
    },
    {
     "name": "stderr",
     "output_type": "stream",
     "text": [
      " 73%|███████▎  | 22/30 [01:11<00:25,  3.24s/it]"
     ]
    },
    {
     "name": "stdout",
     "output_type": "stream",
     "text": [
      "Predicted labels: ['II', 'JJ', 'NNS', 'VVN', 'MC', 'SYM', 'NN', 'VVD', 'DD', 'RR', 'VVNJ', 'CC', 'PND', 'PNR', 'VBB', 'VVB', 'VBZ', 'PUNCT', 'VBD', 'VM', 'VVGN', 'VVG', 'CST', 'VHD', 'PNG', 'VVGJ', 'GE', 'TO', 'VVI', 'PN', 'VHB', 'VVZ', 'VBI', 'VBN', 'VDB', 'NNP', 'CS', 'DB', 'JJR', 'CSN', 'EX', 'VBG', 'VDZ', 'VDD', 'JJT', 'RRT', 'VHZ', 'VHI', 'VHG', 'RRR']\n"
     ]
    },
    {
     "name": "stderr",
     "output_type": "stream",
     "text": [
      " 77%|███████▋  | 23/30 [01:14<00:22,  3.23s/it]"
     ]
    },
    {
     "name": "stdout",
     "output_type": "stream",
     "text": [
      "Predicted labels: ['II', 'JJ', 'NNS', 'VVN', 'MC', 'SYM', 'NN', 'VVD', 'DD', 'RR', 'VVNJ', 'CC', 'PND', 'PNR', 'VBB', 'VVB', 'VBZ', 'PUNCT', 'VBD', 'VM', 'VVGN', 'VVG', 'CST', 'VHD', 'PNG', 'VVGJ', 'GE', 'TO', 'VVI', 'PN', 'VHB', 'VVZ', 'VBI', 'VBN', 'VDB', 'NNP', 'CS', 'DB', 'JJR', 'CSN', 'EX', 'VBG', 'VDZ', 'VDD', 'JJT', 'RRT', 'VHZ', 'VHI', 'VHG', 'RRR']\n"
     ]
    },
    {
     "name": "stderr",
     "output_type": "stream",
     "text": [
      " 80%|████████  | 24/30 [01:17<00:19,  3.22s/it]"
     ]
    },
    {
     "name": "stdout",
     "output_type": "stream",
     "text": [
      "Predicted labels: ['II', 'JJ', 'NNS', 'VVN', 'MC', 'SYM', 'NN', 'VVD', 'DD', 'RR', 'VVNJ', 'CC', 'PND', 'PNR', 'VBB', 'VVB', 'VBZ', 'PUNCT', 'VBD', 'VM', 'VVGN', 'VVG', 'CST', 'VHD', 'PNG', 'VVGJ', 'GE', 'TO', 'VVI', 'PN', 'VHB', 'VVZ', 'VBI', 'VBN', 'VDB', 'NNP', 'CS', 'DB', 'JJR', 'CSN', 'EX', 'VBG', 'VDZ', 'VDD', 'JJT', 'RRT', 'VHZ', 'VHI', 'VHG', 'RRR']\n"
     ]
    },
    {
     "name": "stderr",
     "output_type": "stream",
     "text": [
      " 83%|████████▎ | 25/30 [01:20<00:16,  3.22s/it]"
     ]
    },
    {
     "name": "stdout",
     "output_type": "stream",
     "text": [
      "Predicted labels: ['II', 'JJ', 'NNS', 'VVN', 'MC', 'SYM', 'NN', 'VVD', 'DD', 'RR', 'VVNJ', 'CC', 'PND', 'PNR', 'VBB', 'VVB', 'VBZ', 'PUNCT', 'VBD', 'VM', 'VVGN', 'VVG', 'CST', 'VHD', 'PNG', 'VVGJ', 'GE', 'TO', 'VVI', 'PN', 'VHB', 'VVZ', 'VBI', 'VBN', 'VDB', 'NNP', 'CS', 'DB', 'JJR', 'CSN', 'EX', 'VBG', 'VDZ', 'VDD', 'JJT', 'RRT', 'VHZ', 'VHI', 'VHG', 'RRR']\n"
     ]
    },
    {
     "name": "stderr",
     "output_type": "stream",
     "text": [
      " 87%|████████▋ | 26/30 [01:23<00:12,  3.23s/it]"
     ]
    },
    {
     "name": "stdout",
     "output_type": "stream",
     "text": [
      "Predicted labels: ['II', 'JJ', 'NNS', 'VVN', 'MC', 'SYM', 'NN', 'VVD', 'DD', 'RR', 'VVNJ', 'CC', 'PND', 'PNR', 'VBB', 'VVB', 'VBZ', 'PUNCT', 'VBD', 'VM', 'VVGN', 'VVG', 'CST', 'VHD', 'PNG', 'VVGJ', 'GE', 'TO', 'VVI', 'PN', 'VHB', 'VVZ', 'VBI', 'VBN', 'VDB', 'NNP', 'CS', 'DB', 'JJR', 'CSN', 'EX', 'VBG', 'VDZ', 'VDD', 'JJT', 'RRT', 'VHZ', 'VHI', 'VHG', 'RRR']\n"
     ]
    },
    {
     "name": "stderr",
     "output_type": "stream",
     "text": [
      " 90%|█████████ | 27/30 [01:27<00:09,  3.22s/it]"
     ]
    },
    {
     "name": "stdout",
     "output_type": "stream",
     "text": [
      "Predicted labels: ['II', 'JJ', 'NNS', 'VVN', 'MC', 'SYM', 'NN', 'VVD', 'DD', 'RR', 'VVNJ', 'CC', 'PND', 'PNR', 'VBB', 'VVB', 'VBZ', 'PUNCT', 'VBD', 'VM', 'VVGN', 'VVG', 'CST', 'VHD', 'PNG', 'VVGJ', 'GE', 'TO', 'VVI', 'PN', 'VHB', 'VVZ', 'VBI', 'VBN', 'VDB', 'NNP', 'CS', 'DB', 'JJR', 'CSN', 'EX', 'VBG', 'VDZ', 'VDD', 'JJT', 'RRT', 'VHZ', 'VHI', 'VHG', 'RRR']\n"
     ]
    },
    {
     "name": "stderr",
     "output_type": "stream",
     "text": [
      " 93%|█████████▎| 28/30 [01:30<00:06,  3.23s/it]"
     ]
    },
    {
     "name": "stdout",
     "output_type": "stream",
     "text": [
      "Predicted labels: ['II', 'JJ', 'NNS', 'VVN', 'MC', 'SYM', 'NN', 'VVD', 'DD', 'RR', 'VVNJ', 'CC', 'PND', 'PNR', 'VBB', 'VVB', 'VBZ', 'PUNCT', 'VBD', 'VM', 'VVGN', 'VVG', 'CST', 'VHD', 'PNG', 'VVGJ', 'GE', 'TO', 'VVI', 'PN', 'VHB', 'VVZ', 'VBI', 'VBN', 'VDB', 'NNP', 'CS', 'DB', 'JJR', 'CSN', 'EX', 'VBG', 'VDZ', 'VDD', 'JJT', 'RRT', 'VHZ', 'VHI', 'VHG', 'RRR']\n"
     ]
    },
    {
     "name": "stderr",
     "output_type": "stream",
     "text": [
      " 97%|█████████▋| 29/30 [01:33<00:03,  3.22s/it]"
     ]
    },
    {
     "name": "stdout",
     "output_type": "stream",
     "text": [
      "Predicted labels: ['II', 'JJ', 'NNS', 'VVN', 'MC', 'SYM', 'NN', 'VVD', 'DD', 'RR', 'VVNJ', 'CC', 'PND', 'PNR', 'VBB', 'VVB', 'VBZ', 'PUNCT', 'VBD', 'VM', 'VVGN', 'VVG', 'CST', 'VHD', 'PNG', 'VVGJ', 'GE', 'TO', 'VVI', 'PN', 'VHB', 'VVZ', 'VBI', 'VBN', 'VDB', 'NNP', 'CS', 'DB', 'JJR', 'CSN', 'EX', 'VBG', 'VDZ', 'VDD', 'JJT', 'RRT', 'VHZ', 'VHI', 'VHG', 'RRR']\n"
     ]
    },
    {
     "name": "stderr",
     "output_type": "stream",
     "text": [
      "100%|██████████| 30/30 [01:36<00:00,  3.22s/it]\n"
     ]
    }
   ],
   "source": [
    "from tqdm import tqdm\n",
    "path2results = '../results/medpost_apply/'\n",
    "path2golds = '../data/dev.conll'\n",
    "dev_scores = []\n",
    "for folder in tqdm(os.listdir(path2results)):\n",
    "    path2pred = path2results + folder+'/'+'output-model-001.conll'\n",
    "    join_visu = visualizer(path2golds, path2pred, verbose = False)\n",
    "    dev_scores.append(join_visu.score_predictions(average = 'micro', punct_ignore = True))\n"
   ]
  },
  {
   "cell_type": "code",
   "execution_count": 12,
   "metadata": {},
   "outputs": [
    {
     "data": {
      "text/plain": [
       "(30, 3)"
      ]
     },
     "execution_count": 12,
     "metadata": {},
     "output_type": "execute_result"
    }
   ],
   "source": [
    "dev_df = pd.DataFrame(dev_scores, columns=['precision', 'recall', 'f1', 'count'])\n",
    "#dev_df.pivot(index=0, columns=1, values=2)\n",
    "dev_df.drop(['count'], axis = 1, inplace = True)\n",
    "dev_df.shape"
   ]
  },
  {
   "cell_type": "code",
   "execution_count": 13,
   "metadata": {},
   "outputs": [
    {
     "data": {
      "image/png": "[encoded data removed]",
      "text/plain": [
       "<Figure size 720x288 with 1 Axes>"
      ]
     },
     "metadata": {},
     "output_type": "display_data"
    },
    {
     "name": "stdout",
     "output_type": "stream",
     "text": [
      "average:  0.9782906956250591\n",
      "sd:  0.0038873724842212933\n",
      "max diff:  0.014438524423475818\n",
      "max diff perc:  1.4917219934448271\n"
     ]
    }
   ],
   "source": [
    "plt.figure(figsize=(10,4))\n",
    "plt.boxplot(dev_df['f1'], vert=False, showmeans=True)\n",
    "plt.scatter(dev_df['f1'], np.repeat(1.1, len(dev_df['f1'])), alpha = 0.7)\n",
    "plt.show()\n",
    "print('average: ', np.mean(dev_df['f1']))\n",
    "print('sd: ', np.std(dev_df['f1']))\n",
    "print('max diff: ', np.max(dev_df['f1']) - np.min(dev_df['f1']))\n",
    "print('max diff perc: ', 100*(np.max(dev_df['f1']) - np.min(dev_df['f1']))/np.min(dev_df['f1']))"
   ]
  },
  {
   "cell_type": "markdown",
   "metadata": {},
   "source": [
    "## Mean iter time on train"
   ]
  },
  {
   "cell_type": "code",
   "execution_count": 14,
   "metadata": {},
   "outputs": [
    {
     "data": {
      "text/plain": [
       "20    30\n",
       "Name: cpu_cores, dtype: int64"
      ]
     },
     "execution_count": 14,
     "metadata": {},
     "output_type": "execute_result"
    }
   ],
   "source": [
    "df.cpu_cores.value_counts()"
   ]
  },
  {
   "cell_type": "code",
   "execution_count": 12,
   "metadata": {},
   "outputs": [
    {
     "name": "stdout",
     "output_type": "stream",
     "text": [
      "154552.0\n",
      "15\n",
      "nb_sents /s 0    32.848456\n",
      "dtype: float64\n",
      "nb_toks /s 0    757.61745\n",
      "dtype: float64\n"
     ]
    }
   ],
   "source": [
    "nb_train = np.mean(df.nb_train_tokens )\n",
    "print(nb_train)\n",
    "nb_sents = 6701\n",
    "df.mean_iter_time_s\n",
    "valid_time = pd.DataFrame([t for t in df.mean_iter_time_s if t < 400])\n",
    "print(len(valid_time))\n",
    "sent_sec = nb_sents / valid_time\n",
    "tok_sec = nb_train / valid_time\n",
    "print('nb_sents /s {}'.format(np.mean(sent_sec)))\n",
    "print('nb_toks /s {}'.format(np.mean(tok_sec)))"
   ]
  },
  {
   "cell_type": "code",
   "execution_count": 11,
   "metadata": {},
   "outputs": [
    {
     "data": {
      "text/plain": [
       "0    210.0\n",
       "0    206.0\n",
       "0    209.0\n",
       "0    209.0\n",
       "0    209.0\n",
       "0    210.0\n",
       "0    208.0\n",
       "0    204.0\n",
       "0    199.0\n",
       "0    189.0\n",
       "0    187.0\n",
       "0    210.0\n",
       "0    187.0\n",
       "0    207.0\n",
       "0    223.0\n",
       "0    633.0\n",
       "0    532.0\n",
       "0    532.0\n",
       "0    489.0\n",
       "0    462.0\n",
       "0    417.0\n",
       "0    429.0\n",
       "0    426.0\n",
       "0    421.0\n",
       "0    423.0\n",
       "0    500.0\n",
       "0    435.0\n",
       "0    467.0\n",
       "0    426.0\n",
       "0    420.0\n",
       "Name: mean_iter_time_s, dtype: float64"
      ]
     },
     "execution_count": 11,
     "metadata": {},
     "output_type": "execute_result"
    }
   ],
   "source": [
    "df.mean_iter_time_s"
   ]
  },
  {
   "cell_type": "code",
   "execution_count": null,
   "metadata": {},
   "outputs": [],
   "source": []
  }
 ],
 "metadata": {
  "kernelspec": {
   "display_name": "Python 3",
   "language": "python",
   "name": "python3"
  },
  "language_info": {
   "codemirror_mode": {
    "name": "ipython",
    "version": 3
   },
   "file_extension": ".py",
   "mimetype": "text/x-python",
   "name": "python",
   "nbconvert_exporter": "python",
   "pygments_lexer": "ipython3",
   "version": "3.6.5"
  }
 },
 "nbformat": 4,
 "nbformat_minor": 2
}
