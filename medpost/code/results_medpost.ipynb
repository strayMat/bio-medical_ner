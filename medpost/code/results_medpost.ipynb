{
 "cells": [
  {
   "cell_type": "markdown",
   "metadata": {},
   "source": [
    "# Explore experiences result on conll2003"
   ]
  },
  {
   "cell_type": "code",
   "execution_count": 1,
   "metadata": {},
   "outputs": [],
   "source": [
    "import sys\n",
    "sys.path.insert(1, '../../utils/')\n",
    "\n",
    "from resultsUtils import build_jsons, json2pandas\n",
    "from visuClass import visualizer\n",
    "\n",
    "import numpy as np\n",
    "import matplotlib.pyplot as plt \n",
    "\n",
    "%load_ext autoreload\n",
    "%autoreload 2"
   ]
  },
  {
   "cell_type": "markdown",
   "metadata": {},
   "source": [
    "# Build jsons"
   ]
  },
  {
   "cell_type": "code",
   "execution_count": 2,
   "metadata": {},
   "outputs": [],
   "source": [
    "# fetch results and store in different paths (do not launch everytime, it's super slow!!!!)\n",
    "path2jsons = '../jsons/'"
   ]
  },
  {
   "cell_type": "code",
   "execution_count": 5,
   "metadata": {},
   "outputs": [
    {
     "name": "stderr",
     "output_type": "stream",
     "text": [
      "100%|██████████| 30/30 [01:15<00:00,  2.50s/it]"
     ]
    },
    {
     "name": "stdout",
     "output_type": "stream",
     "text": [
      "Collected 30 xperiences in ../results/ and stored all in ../jsons/\n"
     ]
    },
    {
     "name": "stderr",
     "output_type": "stream",
     "text": [
      "\n"
     ]
    }
   ],
   "source": [
    "build_jsons('../results/', path2jsons, show_path=False)"
   ]
  },
  {
   "cell_type": "markdown",
   "metadata": {},
   "source": [
    "# Analysis"
   ]
  },
  {
   "cell_type": "code",
   "execution_count": 4,
   "metadata": {},
   "outputs": [],
   "source": [
    "df = json2pandas(path2jsons, trajs = False, fixed_iter=None, verbose=False)"
   ]
  },
  {
   "cell_type": "markdown",
   "metadata": {},
   "source": [
    "##  Medpost embeddings"
   ]
  },
  {
   "cell_type": "code",
   "execution_count": 5,
   "metadata": {},
   "outputs": [
    {
     "name": "stdout",
     "output_type": "stream",
     "text": [
      "(30, 16)\n"
     ]
    },
    {
     "data": {
      "text/html": [
       "<div>\n",
       "<style scoped>\n",
       "    .dataframe tbody tr th:only-of-type {\n",
       "        vertical-align: middle;\n",
       "    }\n",
       "\n",
       "    .dataframe tbody tr th {\n",
       "        vertical-align: top;\n",
       "    }\n",
       "\n",
       "    .dataframe thead th {\n",
       "        text-align: right;\n",
       "    }\n",
       "</style>\n",
       "<table border=\"1\" class=\"dataframe\">\n",
       "  <thead>\n",
       "    <tr style=\"text-align: right;\">\n",
       "      <th></th>\n",
       "      <th>best_iter</th>\n",
       "      <th>char_embedding_size</th>\n",
       "      <th>char_hidden_layer_size</th>\n",
       "      <th>dropout_rate</th>\n",
       "      <th>f1</th>\n",
       "      <th>feature_data</th>\n",
       "      <th>hidden_layer_size</th>\n",
       "      <th>nb_iter</th>\n",
       "      <th>nb_train_tokens</th>\n",
       "      <th>opt_decay_use</th>\n",
       "      <th>patience</th>\n",
       "      <th>precision</th>\n",
       "      <th>recall</th>\n",
       "      <th>time_elapsed</th>\n",
       "      <th>word_emb_dim</th>\n",
       "      <th>word_emb_train</th>\n",
       "    </tr>\n",
       "  </thead>\n",
       "  <tbody>\n",
       "    <tr>\n",
       "      <th>0</th>\n",
       "      <td>26</td>\n",
       "      <td>24</td>\n",
       "      <td>32</td>\n",
       "      <td>0.5</td>\n",
       "      <td>97.45</td>\n",
       "      <td>False</td>\n",
       "      <td>64</td>\n",
       "      <td>36</td>\n",
       "      <td>154552.0</td>\n",
       "      <td>False</td>\n",
       "      <td>10</td>\n",
       "      <td>97.36</td>\n",
       "      <td>97.55</td>\n",
       "      <td>136.0</td>\n",
       "      <td>25</td>\n",
       "      <td>True</td>\n",
       "    </tr>\n",
       "    <tr>\n",
       "      <th>0</th>\n",
       "      <td>5</td>\n",
       "      <td>24</td>\n",
       "      <td>32</td>\n",
       "      <td>0.5</td>\n",
       "      <td>95.38</td>\n",
       "      <td>False</td>\n",
       "      <td>64</td>\n",
       "      <td>15</td>\n",
       "      <td>154552.0</td>\n",
       "      <td>False</td>\n",
       "      <td>10</td>\n",
       "      <td>95.21</td>\n",
       "      <td>95.54</td>\n",
       "      <td>56.0</td>\n",
       "      <td>25</td>\n",
       "      <td>True</td>\n",
       "    </tr>\n",
       "    <tr>\n",
       "      <th>0</th>\n",
       "      <td>18</td>\n",
       "      <td>24</td>\n",
       "      <td>32</td>\n",
       "      <td>0.5</td>\n",
       "      <td>96.73</td>\n",
       "      <td>False</td>\n",
       "      <td>64</td>\n",
       "      <td>28</td>\n",
       "      <td>154552.0</td>\n",
       "      <td>False</td>\n",
       "      <td>10</td>\n",
       "      <td>96.66</td>\n",
       "      <td>96.81</td>\n",
       "      <td>105.0</td>\n",
       "      <td>25</td>\n",
       "      <td>True</td>\n",
       "    </tr>\n",
       "    <tr>\n",
       "      <th>0</th>\n",
       "      <td>17</td>\n",
       "      <td>24</td>\n",
       "      <td>32</td>\n",
       "      <td>0.5</td>\n",
       "      <td>97.85</td>\n",
       "      <td>False</td>\n",
       "      <td>64</td>\n",
       "      <td>27</td>\n",
       "      <td>154552.0</td>\n",
       "      <td>False</td>\n",
       "      <td>10</td>\n",
       "      <td>97.82</td>\n",
       "      <td>97.87</td>\n",
       "      <td>102.0</td>\n",
       "      <td>25</td>\n",
       "      <td>True</td>\n",
       "    </tr>\n",
       "    <tr>\n",
       "      <th>0</th>\n",
       "      <td>30</td>\n",
       "      <td>24</td>\n",
       "      <td>32</td>\n",
       "      <td>0.5</td>\n",
       "      <td>96.69</td>\n",
       "      <td>False</td>\n",
       "      <td>64</td>\n",
       "      <td>40</td>\n",
       "      <td>154552.0</td>\n",
       "      <td>False</td>\n",
       "      <td>10</td>\n",
       "      <td>96.64</td>\n",
       "      <td>96.74</td>\n",
       "      <td>150.0</td>\n",
       "      <td>25</td>\n",
       "      <td>True</td>\n",
       "    </tr>\n",
       "  </tbody>\n",
       "</table>\n",
       "</div>"
      ],
      "text/plain": [
       "  best_iter char_embedding_size char_hidden_layer_size  dropout_rate     f1  \\\n",
       "0        26                  24                     32           0.5  97.45   \n",
       "0         5                  24                     32           0.5  95.38   \n",
       "0        18                  24                     32           0.5  96.73   \n",
       "0        17                  24                     32           0.5  97.85   \n",
       "0        30                  24                     32           0.5  96.69   \n",
       "\n",
       "  feature_data hidden_layer_size nb_iter  nb_train_tokens opt_decay_use  \\\n",
       "0        False                64      36         154552.0         False   \n",
       "0        False                64      15         154552.0         False   \n",
       "0        False                64      28         154552.0         False   \n",
       "0        False                64      27         154552.0         False   \n",
       "0        False                64      40         154552.0         False   \n",
       "\n",
       "  patience  precision  recall  time_elapsed word_emb_dim word_emb_train  \n",
       "0       10      97.36   97.55         136.0           25           True  \n",
       "0       10      95.21   95.54          56.0           25           True  \n",
       "0       10      96.66   96.81         105.0           25           True  \n",
       "0       10      97.82   97.87         102.0           25           True  \n",
       "0       10      96.64   96.74         150.0           25           True  "
      ]
     },
     "execution_count": 5,
     "metadata": {},
     "output_type": "execute_result"
    }
   ],
   "source": [
    "#df['best_iter'].plot(kind = 'hist', bins = 30)\n",
    "print(df.shape)\n",
    "df.head(5)"
   ]
  },
  {
   "cell_type": "code",
   "execution_count": 7,
   "metadata": {},
   "outputs": [
    {
     "data": {
      "image/png": "[encoded data removed]",
      "text/plain": [
       "<Figure size 720x288 with 2 Axes>"
      ]
     },
     "metadata": {},
     "output_type": "display_data"
    },
    {
     "name": "stdout",
     "output_type": "stream",
     "text": [
      "average:  96.49000000000001\n",
      "sd:  1.1684319977359967\n",
      "max diff:  3.819999999999993\n",
      "max diff perc:  0.04062533234074224\n"
     ]
    }
   ],
   "source": [
    "plt.figure(figsize=(10,4))\n",
    "plt.boxplot(df['f1'], vert=False, showmeans=True)\n",
    "plt.scatter(df['f1'], np.repeat(1.1, len(df['f1'])), alpha = 0.7, c = df.time_elapsed)\n",
    "plt.xlabel('f1 score')\n",
    "plt.title('f1 scores for the medpost corpus')\n",
    "plt.colorbar()\n",
    "plt.show()\n",
    "print('average: ', np.mean(df['f1']))\n",
    "print('sd: ', np.std(df['f1']))\n",
    "print('max diff: ', np.max(df['f1']) - np.min(df['f1']))\n",
    "print('max diff perc: ', (np.max(df['f1']) - np.min(df['f1']))/np.min(df['f1']))"
   ]
  },
  {
   "cell_type": "code",
   "execution_count": null,
   "metadata": {},
   "outputs": [],
   "source": []
  },
  {
   "cell_type": "code",
   "execution_count": null,
   "metadata": {},
   "outputs": [],
   "source": []
  }
 ],
 "metadata": {
  "kernelspec": {
   "display_name": "Python 3",
   "language": "python",
   "name": "python3"
  },
  "language_info": {
   "codemirror_mode": {
    "name": "ipython",
    "version": 3
   },
   "file_extension": ".py",
   "mimetype": "text/x-python",
   "name": "python",
   "nbconvert_exporter": "python",
   "pygments_lexer": "ipython3",
   "version": "3.6.5"
  }
 },
 "nbformat": 4,
 "nbformat_minor": 2
}
