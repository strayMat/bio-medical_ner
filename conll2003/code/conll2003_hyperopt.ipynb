{
 "cells": [
  {
   "cell_type": "code",
   "execution_count": 1,
   "metadata": {},
   "outputs": [],
   "source": [
    "import pickle\n",
    "import time\n",
    "import os \n",
    "import re \n",
    "import random\n",
    "random.seed(12)\n",
    "import hyperopt\n",
    "from hyperopt import fmin, tpe, hp, STATUS_OK, Trials\n",
    "\n",
    "import numpy as np\n",
    "import matplotlib.pyplot as plt\n",
    "\n",
    "import sys\n",
    "sys.path.insert(1, '../../utils_paper/')\n",
    "\n",
    "from confUtils import read_conf, change_conf, write_conf\n",
    "from resultsUtils import read_log\n",
    "\n",
    "%reload_ext autoreload\n",
    "%autoreload 2"
   ]
  },
  {
   "cell_type": "markdown",
   "metadata": {},
   "source": [
    "# Hyperopt search space for conll2003\n",
    "We present the code for performing a hyper paramater search with the bayesian otimization algorithm of Hyperopt on the CoNNL 2003 shared task corpus."
   ]
  },
  {
   "cell_type": "code",
   "execution_count": 2,
   "metadata": {},
   "outputs": [
    {
     "data": {
      "text/plain": [
       "['../../en_word_emb/ggnews_25.bin', '../../en_word_emb/ggnews_100.bin']"
      ]
     },
     "execution_count": 2,
     "metadata": {},
     "output_type": "execute_result"
    }
   ],
   "source": [
    "# embedding models\n",
    "emb_path = '../../en_word_emb/ggnews_{}.bin'\n",
    "emb_dims = [25, 100]\n",
    "emb_paths = [emb_path.format(dim) for dim in emb_dims]\n",
    "emb_paths"
   ]
  },
  {
   "cell_type": "code",
   "execution_count": 3,
   "metadata": {},
   "outputs": [
    {
     "data": {
      "text/plain": [
       "{'char_embedding_size': 8,\n",
       " 'char_hidden_layer_size': 32,\n",
       " 'dropout_rate': 0.4127366260185579,\n",
       " 'embedding_dim': '../../en_word_emb/ggnews_25.bin',\n",
       " 'hidden_layer_size': 64}"
      ]
     },
     "execution_count": 3,
     "metadata": {},
     "output_type": "execute_result"
    }
   ],
   "source": [
    "# define hyperopt space (dict keys should be the same as yaset parameters names)\n",
    "space = {'hidden_layer_size' : 32*2**hp.randint('main_hidden_x32',4),\n",
    "         'char_embedding_size' : 8*hp.choice('char_emb_x8', np.arange(1,6)),\n",
    "         'char_hidden_layer_size' : 8*hp.choice('char_hidd_x8', np.arange(1,6)),\n",
    "         'dropout_rate' : hp.uniform('drop', 0.4, 0.6),\n",
    "         'embedding_dim' : hp.choice('emb_dim', emb_paths)\n",
    "        }\n",
    "\n",
    "test = hyperopt.pyll.stochastic.sample(space)\n",
    "test"
   ]
  },
  {
   "cell_type": "code",
   "execution_count": 4,
   "metadata": {},
   "outputs": [],
   "source": [
    "path2conf = 'conll.ini'\n",
    "path2hyper_results = '../results/hyperopt/'\n",
    "CONF_MODEL = read_conf(path2conf, verbose = False)"
   ]
  },
  {
   "cell_type": "code",
   "execution_count": 7,
   "metadata": {},
   "outputs": [],
   "source": [
    "def yaset_objective(kwargs):\n",
    "    #os.environ['CUDA_VISIBLE_DEVICES'] = '3'\n",
    "    # build new conf\n",
    "    new_conf = change_conf(CONF_MODEL, kwargs)\n",
    "    new_conf['working_dir'] = path2hyper_results + 'tmp/'\n",
    "    write_conf(new_conf, path2hyper_results + 'tmp/', 'tmp')\n",
    "    #print(kwargs)\n",
    "    launch_yaset = \"yaset LEARN --config \"+ path2hyper_results+'tmp/'+'tmp.ini'\n",
    "    # launch experiment\n",
    "    os.system(launch_yaset)\n",
    "    # get the log file \n",
    "    yaset_log = None\n",
    "    f1 = 0\n",
    "    #detect the log file in the tmp folder \n",
    "    for f in os.listdir(path2hyper_results+'tmp/'):\n",
    "        if os.path.isdir(path2hyper_results+'tmp/'+f):\n",
    "            for ff in os.listdir(path2hyper_results+'tmp/'+f):\n",
    "                reg = re.search('.*(\\.log)', ff)\n",
    "                if reg is not None:\n",
    "                    yaset_log = path2hyper_results+'tmp/'+f+'/'+reg.group(0)\n",
    "                    # get the score from the log file\n",
    "                    scores = read_log(yaset_log, verbose = False, warnings = True)\n",
    "                    if scores is not None:\n",
    "                        f1 = scores['score'][3]\n",
    "    for f in os.listdir(path2hyper_results+'tmp/'):\n",
    "        os.system('mv '+path2hyper_results+'tmp/'+f+' '+path2hyper_results) \n",
    "    score = f1\n",
    "    print(score)\n",
    "    return{\n",
    "        'loss' : -score, \n",
    "        'status': STATUS_OK,\n",
    "        'eval_time': time.time()\n",
    "    }"
   ]
  },
  {
   "cell_type": "code",
   "execution_count": null,
   "metadata": {},
   "outputs": [
    {
     "name": "stdout",
     "output_type": "stream",
     "text": [
      "90.02\n",
      "89.06\n"
     ]
    }
   ],
   "source": [
    "trials = Trials()\n",
    "best = fmin(yaset_objective, space=space, algo=tpe.suggest, max_evals=100,trials=trials)\n",
    "print (best)\n"
   ]
  },
  {
   "cell_type": "code",
   "execution_count": null,
   "metadata": {},
   "outputs": [],
   "source": [
    "pickle.dump(trials, open(+\"mytrials.p\", \"wb\"))"
   ]
  },
  {
   "cell_type": "code",
   "execution_count": null,
   "metadata": {},
   "outputs": [],
   "source": [
    "trials.results"
   ]
  },
  {
   "cell_type": "code",
   "execution_count": null,
   "metadata": {},
   "outputs": [],
   "source": []
  }
 ],
 "metadata": {
  "kernelspec": {
   "display_name": "Python 3",
   "language": "python",
   "name": "python3"
  },
  "language_info": {
   "codemirror_mode": {
    "name": "ipython",
    "version": 3
   },
   "file_extension": ".py",
   "mimetype": "text/x-python",
   "name": "python",
   "nbconvert_exporter": "python",
   "pygments_lexer": "ipython3",
   "version": "3.6.5"
  }
 },
 "nbformat": 4,
 "nbformat_minor": 2
}
