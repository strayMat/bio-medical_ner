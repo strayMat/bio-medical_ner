{
 "cells": [
  {
   "cell_type": "markdown",
   "metadata": {},
   "source": [
    "# Explore training performances on conll2003"
   ]
  },
  {
   "cell_type": "code",
   "execution_count": 1,
   "metadata": {},
   "outputs": [],
   "source": [
    "import os \n",
    "import pandas as pd\n",
    "import numpy as np\n",
    "import matplotlib.pyplot as plt \n",
    "\n",
    "import random\n",
    "random.seed(12)\n",
    "import sys\n",
    "sys.path.insert(1, '../../utils_paper/')\n",
    "from resultsUtils import build_jsons, get_results, json2pandas, plot_results\n",
    "from visuClass import visualizer, yaset_pred\n",
    "\n",
    "%load_ext autoreload\n",
    "%autoreload 2"
   ]
  },
  {
   "cell_type": "markdown",
   "metadata": {},
   "source": [
    "# Build jsons"
   ]
  },
  {
   "cell_type": "code",
   "execution_count": 6,
   "metadata": {},
   "outputs": [],
   "source": [
    "# Fetch results from log files and store them in different paths\n",
    "path2jsonsGG = '../jsons/jsons_ggnews/'\n",
    "path2jsonsFT = '../jsons/jsons_fT/'\n",
    "path2jsonsFTjoin = '../jsons/jsons_fT_train_dev/'"
   ]
  },
  {
   "cell_type": "code",
   "execution_count": 3,
   "metadata": {},
   "outputs": [
    {
     "name": "stderr",
     "output_type": "stream",
     "text": [
      "  3%|▎         | 1/30 [00:02<01:24,  2.93s/it]"
     ]
    },
    {
     "name": "stdout",
     "output_type": "stream",
     "text": [
      "yaset-learn-conll2003-20180627-162159 | fscore = 89.96\n"
     ]
    },
    {
     "name": "stderr",
     "output_type": "stream",
     "text": [
      "  7%|▋         | 2/30 [00:05<01:19,  2.85s/it]"
     ]
    },
    {
     "name": "stdout",
     "output_type": "stream",
     "text": [
      "yaset-learn-conll2003-20180627-162251 | fscore = 90.12\n"
     ]
    },
    {
     "name": "stderr",
     "output_type": "stream",
     "text": [
      " 10%|█         | 3/30 [00:08<01:17,  2.86s/it]"
     ]
    },
    {
     "name": "stdout",
     "output_type": "stream",
     "text": [
      "yaset-learn-conll2003-20180627-185431 | fscore = 90.17\n"
     ]
    },
    {
     "name": "stderr",
     "output_type": "stream",
     "text": [
      " 13%|█▎        | 4/30 [00:11<01:13,  2.83s/it]"
     ]
    },
    {
     "name": "stdout",
     "output_type": "stream",
     "text": [
      "yaset-learn-conll2003-20180627-231052 | fscore = 90.25\n"
     ]
    },
    {
     "name": "stderr",
     "output_type": "stream",
     "text": [
      " 17%|█▋        | 5/30 [00:14<01:10,  2.82s/it]"
     ]
    },
    {
     "name": "stdout",
     "output_type": "stream",
     "text": [
      "yaset-learn-conll2003-20180628-045849 | fscore = 90.14\n"
     ]
    },
    {
     "name": "stderr",
     "output_type": "stream",
     "text": [
      " 20%|██        | 6/30 [00:16<01:07,  2.81s/it]"
     ]
    },
    {
     "name": "stdout",
     "output_type": "stream",
     "text": [
      "yaset-learn-conll2003-20180628-020413 | fscore = 89.76\n"
     ]
    },
    {
     "name": "stderr",
     "output_type": "stream",
     "text": [
      " 23%|██▎       | 7/30 [00:19<01:04,  2.81s/it]"
     ]
    },
    {
     "name": "stdout",
     "output_type": "stream",
     "text": [
      "yaset-learn-conll2003-20180628-072653 | fscore = 89.84\n"
     ]
    },
    {
     "name": "stderr",
     "output_type": "stream",
     "text": [
      " 27%|██▋       | 8/30 [00:22<01:01,  2.81s/it]"
     ]
    },
    {
     "name": "stdout",
     "output_type": "stream",
     "text": [
      "yaset-learn-conll2003-20180628-085135 | fscore = 90.53\n"
     ]
    },
    {
     "name": "stderr",
     "output_type": "stream",
     "text": [
      " 30%|███       | 9/30 [00:25<00:58,  2.81s/it]"
     ]
    },
    {
     "name": "stdout",
     "output_type": "stream",
     "text": [
      "yaset-learn-conll2003-20180628-164914 | fscore = 90.38\n"
     ]
    },
    {
     "name": "stderr",
     "output_type": "stream",
     "text": [
      " 33%|███▎      | 10/30 [00:28<00:56,  2.81s/it]"
     ]
    },
    {
     "name": "stdout",
     "output_type": "stream",
     "text": [
      "yaset-learn-conll2003-20180628-095010 | fscore = 90.13\n"
     ]
    },
    {
     "name": "stderr",
     "output_type": "stream",
     "text": [
      " 37%|███▋      | 11/30 [00:30<00:53,  2.82s/it]"
     ]
    },
    {
     "name": "stdout",
     "output_type": "stream",
     "text": [
      "yaset-learn-conll2003-20180628-130835 | fscore = 90.36\n"
     ]
    },
    {
     "name": "stderr",
     "output_type": "stream",
     "text": [
      " 40%|████      | 12/30 [00:33<00:50,  2.82s/it]"
     ]
    },
    {
     "name": "stdout",
     "output_type": "stream",
     "text": [
      "yaset-learn-conll2003-20180629-030105 | fscore = 89.89\n"
     ]
    },
    {
     "name": "stderr",
     "output_type": "stream",
     "text": [
      " 43%|████▎     | 13/30 [00:36<00:47,  2.81s/it]"
     ]
    },
    {
     "name": "stdout",
     "output_type": "stream",
     "text": [
      "yaset-learn-conll2003-20180629-110423 | fscore = 90.35\n"
     ]
    },
    {
     "name": "stderr",
     "output_type": "stream",
     "text": [
      " 47%|████▋     | 14/30 [00:39<00:44,  2.81s/it]"
     ]
    },
    {
     "name": "stdout",
     "output_type": "stream",
     "text": [
      "yaset-learn-conll2003-20180629-061123 | fscore = 90.22\n"
     ]
    },
    {
     "name": "stderr",
     "output_type": "stream",
     "text": [
      " 50%|█████     | 15/30 [00:42<00:42,  2.82s/it]"
     ]
    },
    {
     "name": "stdout",
     "output_type": "stream",
     "text": [
      "yaset-learn-conll2003-20180628-173603 | fscore = 90.26\n"
     ]
    },
    {
     "name": "stderr",
     "output_type": "stream",
     "text": [
      " 53%|█████▎    | 16/30 [00:45<00:39,  2.82s/it]"
     ]
    },
    {
     "name": "stdout",
     "output_type": "stream",
     "text": [
      "yaset-learn-conll2003-20180629-161306 | fscore = 90.25\n"
     ]
    },
    {
     "name": "stderr",
     "output_type": "stream",
     "text": [
      " 57%|█████▋    | 17/30 [00:47<00:36,  2.81s/it]"
     ]
    },
    {
     "name": "stdout",
     "output_type": "stream",
     "text": [
      "yaset-learn-conll2003-20180628-210530 | fscore = 90.69\n"
     ]
    },
    {
     "name": "stderr",
     "output_type": "stream",
     "text": [
      " 60%|██████    | 18/30 [00:50<00:33,  2.81s/it]"
     ]
    },
    {
     "name": "stdout",
     "output_type": "stream",
     "text": [
      "yaset-learn-conll2003-20180629-002856 | fscore = 90.34\n"
     ]
    },
    {
     "name": "stderr",
     "output_type": "stream",
     "text": [
      " 63%|██████▎   | 19/30 [00:53<00:30,  2.81s/it]"
     ]
    },
    {
     "name": "stdout",
     "output_type": "stream",
     "text": [
      "yaset-learn-conll2003-20180629-060423 | fscore = 90.14\n"
     ]
    },
    {
     "name": "stderr",
     "output_type": "stream",
     "text": [
      " 67%|██████▋   | 20/30 [00:56<00:28,  2.81s/it]"
     ]
    },
    {
     "name": "stdout",
     "output_type": "stream",
     "text": [
      "yaset-learn-conll2003-20180630-022213 | fscore = 90.02\n"
     ]
    },
    {
     "name": "stderr",
     "output_type": "stream",
     "text": [
      " 70%|███████   | 21/30 [00:59<00:25,  2.81s/it]"
     ]
    },
    {
     "name": "stdout",
     "output_type": "stream",
     "text": [
      "yaset-learn-conll2003-20180630-224035 | fscore = 90.35\n"
     ]
    },
    {
     "name": "stderr",
     "output_type": "stream",
     "text": [
      " 73%|███████▎  | 22/30 [01:01<00:22,  2.82s/it]"
     ]
    },
    {
     "name": "stdout",
     "output_type": "stream",
     "text": [
      "yaset-learn-conll2003-20180630-135750 | fscore = 89.87\n"
     ]
    },
    {
     "name": "stderr",
     "output_type": "stream",
     "text": [
      " 77%|███████▋  | 23/30 [01:04<00:19,  2.82s/it]"
     ]
    },
    {
     "name": "stdout",
     "output_type": "stream",
     "text": [
      "yaset-learn-conll2003-20180701-051254 | fscore = 90.08\n"
     ]
    },
    {
     "name": "stderr",
     "output_type": "stream",
     "text": [
      " 80%|████████  | 24/30 [01:07<00:16,  2.81s/it]"
     ]
    },
    {
     "name": "stdout",
     "output_type": "stream",
     "text": [
      "yaset-learn-conll2003-20180701-123319 | fscore = 90.17\n"
     ]
    },
    {
     "name": "stderr",
     "output_type": "stream",
     "text": [
      " 83%|████████▎ | 25/30 [01:10<00:14,  2.81s/it]"
     ]
    },
    {
     "name": "stdout",
     "output_type": "stream",
     "text": [
      "yaset-learn-conll2003-20180701-201957 | fscore = 90.11\n"
     ]
    },
    {
     "name": "stderr",
     "output_type": "stream",
     "text": [
      " 87%|████████▋ | 26/30 [01:13<00:11,  2.81s/it]"
     ]
    },
    {
     "name": "stdout",
     "output_type": "stream",
     "text": [
      "yaset-learn-conll2003-20180629-141736 | fscore = 89.93\n"
     ]
    },
    {
     "name": "stderr",
     "output_type": "stream",
     "text": [
      " 90%|█████████ | 27/30 [01:15<00:08,  2.81s/it]"
     ]
    },
    {
     "name": "stdout",
     "output_type": "stream",
     "text": [
      "yaset-learn-conll2003-20180629-181246 | fscore = 90.26\n"
     ]
    },
    {
     "name": "stderr",
     "output_type": "stream",
     "text": [
      " 93%|█████████▎| 28/30 [01:18<00:05,  2.80s/it]"
     ]
    },
    {
     "name": "stdout",
     "output_type": "stream",
     "text": [
      "yaset-learn-conll2003-20180630-074446 | fscore = 90.0\n"
     ]
    },
    {
     "name": "stderr",
     "output_type": "stream",
     "text": [
      " 97%|█████████▋| 29/30 [01:21<00:02,  2.80s/it]"
     ]
    },
    {
     "name": "stdout",
     "output_type": "stream",
     "text": [
      "yaset-learn-conll2003-20180703-175756 | fscore = 90.3\n"
     ]
    },
    {
     "name": "stderr",
     "output_type": "stream",
     "text": [
      "100%|██████████| 30/30 [01:23<00:00,  2.80s/it]\n",
      "  0%|          | 0/5 [00:00<?, ?it/s]"
     ]
    },
    {
     "name": "stdout",
     "output_type": "stream",
     "text": [
      "yaset-learn-conll2003-20180704-002657 | fscore = 89.88\n",
      "Collected 30 xperiences in ../results/bio/ and stored all in ../jsons/jsons_ggnews/\n"
     ]
    },
    {
     "name": "stderr",
     "output_type": "stream",
     "text": [
      "100%|██████████| 5/5 [00:10<00:00,  2.16s/it]"
     ]
    },
    {
     "name": "stdout",
     "output_type": "stream",
     "text": [
      "Collected 5 xperiences in ../results/fastText_embs/ and stored all in ../jsons/jsons_fT/\n"
     ]
    },
    {
     "name": "stderr",
     "output_type": "stream",
     "text": [
      "\n"
     ]
    }
   ],
   "source": [
    "build_jsons('../results/bio/', path2jsonsGG, show_path=True)\n",
    "build_jsons('../results/fastText_embs/', path2jsonsFT, show_path=False)"
   ]
  },
  {
   "cell_type": "code",
   "execution_count": 4,
   "metadata": {},
   "outputs": [
    {
     "name": "stderr",
     "output_type": "stream",
     "text": [
      "100%|██████████| 3/3 [00:04<00:00,  1.44s/it]"
     ]
    },
    {
     "name": "stdout",
     "output_type": "stream",
     "text": [
      "Collected 2 xperiences in ../results/fastText_embs_join/ and stored all in ../jsons/jsons_fT_train_dev/\n"
     ]
    },
    {
     "name": "stderr",
     "output_type": "stream",
     "text": [
      "\n"
     ]
    }
   ],
   "source": [
    "build_jsons('../results/fastText_embs_join/', path2jsonsFTjoin, show_path=False)"
   ]
  },
  {
   "cell_type": "markdown",
   "metadata": {},
   "source": [
    "# Analysis"
   ]
  },
  {
   "cell_type": "code",
   "execution_count": null,
   "metadata": {},
   "outputs": [],
   "source": [
    "#!rm ../../jsons/.ipynb_checkpoints -rf"
   ]
  },
  {
   "cell_type": "markdown",
   "metadata": {},
   "source": [
    "##  ggnews embeddings"
   ]
  },
  {
   "cell_type": "code",
   "execution_count": 7,
   "metadata": {},
   "outputs": [],
   "source": [
    "df = json2pandas(path2jsonsGG, trajs = False, fixed_iter=None, verbose=False)"
   ]
  },
  {
   "cell_type": "code",
   "execution_count": 8,
   "metadata": {},
   "outputs": [
    {
     "name": "stdout",
     "output_type": "stream",
     "text": [
      "(30, 17)\n"
     ]
    },
    {
     "data": {
      "text/html": [
       "<div>\n",
       "<style scoped>\n",
       "    .dataframe tbody tr th:only-of-type {\n",
       "        vertical-align: middle;\n",
       "    }\n",
       "\n",
       "    .dataframe tbody tr th {\n",
       "        vertical-align: top;\n",
       "    }\n",
       "\n",
       "    .dataframe thead th {\n",
       "        text-align: right;\n",
       "    }\n",
       "</style>\n",
       "<table border=\"1\" class=\"dataframe\">\n",
       "  <thead>\n",
       "    <tr style=\"text-align: right;\">\n",
       "      <th></th>\n",
       "      <th>best_iter</th>\n",
       "      <th>char_embedding_size</th>\n",
       "      <th>char_hidden_layer_size</th>\n",
       "      <th>cpu_cores</th>\n",
       "      <th>dropout_rate</th>\n",
       "      <th>f1</th>\n",
       "      <th>feature_data</th>\n",
       "      <th>hidden_layer_size</th>\n",
       "      <th>nb_iter</th>\n",
       "      <th>nb_train_tokens</th>\n",
       "      <th>opt_decay_use</th>\n",
       "      <th>patience</th>\n",
       "      <th>precision</th>\n",
       "      <th>recall</th>\n",
       "      <th>time_elapsed</th>\n",
       "      <th>word_emb_dim</th>\n",
       "      <th>word_emb_train</th>\n",
       "    </tr>\n",
       "  </thead>\n",
       "  <tbody>\n",
       "    <tr>\n",
       "      <th>0</th>\n",
       "      <td>19</td>\n",
       "      <td>24</td>\n",
       "      <td>32</td>\n",
       "      <td>30</td>\n",
       "      <td>0.5</td>\n",
       "      <td>90.69</td>\n",
       "      <td>False</td>\n",
       "      <td>64</td>\n",
       "      <td>29</td>\n",
       "      <td>204567.0</td>\n",
       "      <td>False</td>\n",
       "      <td>10</td>\n",
       "      <td>90.66</td>\n",
       "      <td>90.72</td>\n",
       "      <td>203.0</td>\n",
       "      <td>25</td>\n",
       "      <td>True</td>\n",
       "    </tr>\n",
       "    <tr>\n",
       "      <th>0</th>\n",
       "      <td>13</td>\n",
       "      <td>24</td>\n",
       "      <td>32</td>\n",
       "      <td>30</td>\n",
       "      <td>0.5</td>\n",
       "      <td>90.53</td>\n",
       "      <td>False</td>\n",
       "      <td>64</td>\n",
       "      <td>23</td>\n",
       "      <td>204567.0</td>\n",
       "      <td>False</td>\n",
       "      <td>10</td>\n",
       "      <td>90.41</td>\n",
       "      <td>90.65</td>\n",
       "      <td>477.0</td>\n",
       "      <td>25</td>\n",
       "      <td>True</td>\n",
       "    </tr>\n",
       "    <tr>\n",
       "      <th>0</th>\n",
       "      <td>22</td>\n",
       "      <td>24</td>\n",
       "      <td>32</td>\n",
       "      <td>30</td>\n",
       "      <td>0.5</td>\n",
       "      <td>90.38</td>\n",
       "      <td>False</td>\n",
       "      <td>64</td>\n",
       "      <td>32</td>\n",
       "      <td>204567.0</td>\n",
       "      <td>False</td>\n",
       "      <td>10</td>\n",
       "      <td>90.38</td>\n",
       "      <td>90.38</td>\n",
       "      <td>0.0</td>\n",
       "      <td>25</td>\n",
       "      <td>True</td>\n",
       "    </tr>\n",
       "    <tr>\n",
       "      <th>0</th>\n",
       "      <td>23</td>\n",
       "      <td>24</td>\n",
       "      <td>32</td>\n",
       "      <td>30</td>\n",
       "      <td>0.5</td>\n",
       "      <td>90.36</td>\n",
       "      <td>False</td>\n",
       "      <td>64</td>\n",
       "      <td>33</td>\n",
       "      <td>204567.0</td>\n",
       "      <td>False</td>\n",
       "      <td>10</td>\n",
       "      <td>90.56</td>\n",
       "      <td>90.17</td>\n",
       "      <td>267.0</td>\n",
       "      <td>25</td>\n",
       "      <td>True</td>\n",
       "    </tr>\n",
       "    <tr>\n",
       "      <th>0</th>\n",
       "      <td>15</td>\n",
       "      <td>24</td>\n",
       "      <td>32</td>\n",
       "      <td>30</td>\n",
       "      <td>0.5</td>\n",
       "      <td>90.35</td>\n",
       "      <td>False</td>\n",
       "      <td>64</td>\n",
       "      <td>25</td>\n",
       "      <td>204567.0</td>\n",
       "      <td>False</td>\n",
       "      <td>10</td>\n",
       "      <td>90.53</td>\n",
       "      <td>90.17</td>\n",
       "      <td>392.0</td>\n",
       "      <td>25</td>\n",
       "      <td>True</td>\n",
       "    </tr>\n",
       "  </tbody>\n",
       "</table>\n",
       "</div>"
      ],
      "text/plain": [
       "  best_iter char_embedding_size char_hidden_layer_size cpu_cores  \\\n",
       "0        19                  24                     32        30   \n",
       "0        13                  24                     32        30   \n",
       "0        22                  24                     32        30   \n",
       "0        23                  24                     32        30   \n",
       "0        15                  24                     32        30   \n",
       "\n",
       "   dropout_rate     f1 feature_data hidden_layer_size nb_iter  \\\n",
       "0           0.5  90.69        False                64      29   \n",
       "0           0.5  90.53        False                64      23   \n",
       "0           0.5  90.38        False                64      32   \n",
       "0           0.5  90.36        False                64      33   \n",
       "0           0.5  90.35        False                64      25   \n",
       "\n",
       "   nb_train_tokens opt_decay_use patience  precision  recall  time_elapsed  \\\n",
       "0         204567.0         False       10      90.66   90.72         203.0   \n",
       "0         204567.0         False       10      90.41   90.65         477.0   \n",
       "0         204567.0         False       10      90.38   90.38           0.0   \n",
       "0         204567.0         False       10      90.56   90.17         267.0   \n",
       "0         204567.0         False       10      90.53   90.17         392.0   \n",
       "\n",
       "  word_emb_dim word_emb_train  \n",
       "0           25           True  \n",
       "0           25           True  \n",
       "0           25           True  \n",
       "0           25           True  \n",
       "0           25           True  "
      ]
     },
     "execution_count": 8,
     "metadata": {},
     "output_type": "execute_result"
    },
    {
     "data": {
      "image/png": "[encoded data removed]",
      "text/plain": [
       "<Figure size 432x288 with 1 Axes>"
      ]
     },
     "metadata": {},
     "output_type": "display_data"
    }
   ],
   "source": [
    "df['best_iter'].plot(kind = 'hist', bins = 30)\n",
    "print(df.shape)\n",
    "df.sort_values('f1', ascending=False).head(5)"
   ]
  },
  {
   "cell_type": "markdown",
   "metadata": {},
   "source": [
    "#### Box plot"
   ]
  },
  {
   "cell_type": "code",
   "execution_count": 9,
   "metadata": {},
   "outputs": [
    {
     "data": {
      "image/png": "[encoded data removed]",
      "text/plain": [
       "<Figure size 720x288 with 1 Axes>"
      ]
     },
     "metadata": {},
     "output_type": "display_data"
    },
    {
     "name": "stdout",
     "output_type": "stream",
     "text": [
      "average:  90.15833333333335\n",
      "sd:  0.209635927794407\n",
      "max diff:  0.9299999999999926\n",
      "max diff perc:  0.010360962566844836\n"
     ]
    }
   ],
   "source": [
    "plt.figure(figsize=(10,4))\n",
    "plt.boxplot(df['f1'], vert=False, showmeans=True)\n",
    "plt.scatter(df['f1'], np.repeat(1.1, len(df['f1'])), alpha = 0.7)\n",
    "plt.show()\n",
    "print('average: ', np.mean(df['f1']))\n",
    "print('sd: ', np.std(df['f1']))\n",
    "print('max diff: ', np.max(df['f1']) - np.min(df['f1']))\n",
    "print('max diff perc: ', (np.max(df['f1']) - np.min(df['f1']))/np.min(df['f1']))"
   ]
  },
  {
   "cell_type": "markdown",
   "metadata": {},
   "source": [
    "##  FastText embeddings trained on train set"
   ]
  },
  {
   "cell_type": "code",
   "execution_count": 12,
   "metadata": {},
   "outputs": [],
   "source": [
    "dfFT = json2pandas(path2jsonsFT, trajs = False, fixed_iter=None, verbose=False)"
   ]
  },
  {
   "cell_type": "code",
   "execution_count": 13,
   "metadata": {},
   "outputs": [
    {
     "name": "stdout",
     "output_type": "stream",
     "text": [
      "(5, 17)\n"
     ]
    },
    {
     "data": {
      "text/html": [
       "<div>\n",
       "<style scoped>\n",
       "    .dataframe tbody tr th:only-of-type {\n",
       "        vertical-align: middle;\n",
       "    }\n",
       "\n",
       "    .dataframe tbody tr th {\n",
       "        vertical-align: top;\n",
       "    }\n",
       "\n",
       "    .dataframe thead th {\n",
       "        text-align: right;\n",
       "    }\n",
       "</style>\n",
       "<table border=\"1\" class=\"dataframe\">\n",
       "  <thead>\n",
       "    <tr style=\"text-align: right;\">\n",
       "      <th></th>\n",
       "      <th>best_iter</th>\n",
       "      <th>char_embedding_size</th>\n",
       "      <th>char_hidden_layer_size</th>\n",
       "      <th>cpu_cores</th>\n",
       "      <th>dropout_rate</th>\n",
       "      <th>f1</th>\n",
       "      <th>feature_data</th>\n",
       "      <th>hidden_layer_size</th>\n",
       "      <th>nb_iter</th>\n",
       "      <th>nb_train_tokens</th>\n",
       "      <th>opt_decay_use</th>\n",
       "      <th>patience</th>\n",
       "      <th>precision</th>\n",
       "      <th>recall</th>\n",
       "      <th>time_elapsed</th>\n",
       "      <th>word_emb_dim</th>\n",
       "      <th>word_emb_train</th>\n",
       "    </tr>\n",
       "  </thead>\n",
       "  <tbody>\n",
       "    <tr>\n",
       "      <th>0</th>\n",
       "      <td>11</td>\n",
       "      <td>24</td>\n",
       "      <td>32</td>\n",
       "      <td>20</td>\n",
       "      <td>0.5</td>\n",
       "      <td>93.07</td>\n",
       "      <td>False</td>\n",
       "      <td>64</td>\n",
       "      <td>21</td>\n",
       "      <td>204567.0</td>\n",
       "      <td>False</td>\n",
       "      <td>10</td>\n",
       "      <td>93.34</td>\n",
       "      <td>92.79</td>\n",
       "      <td>536.0</td>\n",
       "      <td>25</td>\n",
       "      <td>True</td>\n",
       "    </tr>\n",
       "    <tr>\n",
       "      <th>0</th>\n",
       "      <td>17</td>\n",
       "      <td>24</td>\n",
       "      <td>32</td>\n",
       "      <td>20</td>\n",
       "      <td>0.5</td>\n",
       "      <td>93.02</td>\n",
       "      <td>False</td>\n",
       "      <td>64</td>\n",
       "      <td>27</td>\n",
       "      <td>204567.0</td>\n",
       "      <td>False</td>\n",
       "      <td>10</td>\n",
       "      <td>93.17</td>\n",
       "      <td>92.86</td>\n",
       "      <td>0.0</td>\n",
       "      <td>25</td>\n",
       "      <td>True</td>\n",
       "    </tr>\n",
       "    <tr>\n",
       "      <th>0</th>\n",
       "      <td>22</td>\n",
       "      <td>24</td>\n",
       "      <td>32</td>\n",
       "      <td>20</td>\n",
       "      <td>0.5</td>\n",
       "      <td>92.92</td>\n",
       "      <td>False</td>\n",
       "      <td>64</td>\n",
       "      <td>32</td>\n",
       "      <td>204567.0</td>\n",
       "      <td>False</td>\n",
       "      <td>10</td>\n",
       "      <td>93.18</td>\n",
       "      <td>92.66</td>\n",
       "      <td>0.0</td>\n",
       "      <td>25</td>\n",
       "      <td>True</td>\n",
       "    </tr>\n",
       "    <tr>\n",
       "      <th>0</th>\n",
       "      <td>15</td>\n",
       "      <td>24</td>\n",
       "      <td>32</td>\n",
       "      <td>20</td>\n",
       "      <td>0.5</td>\n",
       "      <td>92.86</td>\n",
       "      <td>False</td>\n",
       "      <td>64</td>\n",
       "      <td>25</td>\n",
       "      <td>204567.0</td>\n",
       "      <td>False</td>\n",
       "      <td>10</td>\n",
       "      <td>93.02</td>\n",
       "      <td>92.69</td>\n",
       "      <td>0.0</td>\n",
       "      <td>25</td>\n",
       "      <td>True</td>\n",
       "    </tr>\n",
       "    <tr>\n",
       "      <th>0</th>\n",
       "      <td>16</td>\n",
       "      <td>24</td>\n",
       "      <td>32</td>\n",
       "      <td>20</td>\n",
       "      <td>0.5</td>\n",
       "      <td>92.84</td>\n",
       "      <td>False</td>\n",
       "      <td>64</td>\n",
       "      <td>26</td>\n",
       "      <td>204567.0</td>\n",
       "      <td>False</td>\n",
       "      <td>10</td>\n",
       "      <td>92.93</td>\n",
       "      <td>92.74</td>\n",
       "      <td>524.0</td>\n",
       "      <td>25</td>\n",
       "      <td>True</td>\n",
       "    </tr>\n",
       "  </tbody>\n",
       "</table>\n",
       "</div>"
      ],
      "text/plain": [
       "  best_iter char_embedding_size char_hidden_layer_size cpu_cores  \\\n",
       "0        11                  24                     32        20   \n",
       "0        17                  24                     32        20   \n",
       "0        22                  24                     32        20   \n",
       "0        15                  24                     32        20   \n",
       "0        16                  24                     32        20   \n",
       "\n",
       "   dropout_rate     f1 feature_data hidden_layer_size nb_iter  \\\n",
       "0           0.5  93.07        False                64      21   \n",
       "0           0.5  93.02        False                64      27   \n",
       "0           0.5  92.92        False                64      32   \n",
       "0           0.5  92.86        False                64      25   \n",
       "0           0.5  92.84        False                64      26   \n",
       "\n",
       "   nb_train_tokens opt_decay_use patience  precision  recall  time_elapsed  \\\n",
       "0         204567.0         False       10      93.34   92.79         536.0   \n",
       "0         204567.0         False       10      93.17   92.86           0.0   \n",
       "0         204567.0         False       10      93.18   92.66           0.0   \n",
       "0         204567.0         False       10      93.02   92.69           0.0   \n",
       "0         204567.0         False       10      92.93   92.74         524.0   \n",
       "\n",
       "  word_emb_dim word_emb_train  \n",
       "0           25           True  \n",
       "0           25           True  \n",
       "0           25           True  \n",
       "0           25           True  \n",
       "0           25           True  "
      ]
     },
     "execution_count": 13,
     "metadata": {},
     "output_type": "execute_result"
    },
    {
     "data": {
      "image/png": "[encoded data removed]",
      "text/plain": [
       "<Figure size 432x288 with 1 Axes>"
      ]
     },
     "metadata": {},
     "output_type": "display_data"
    }
   ],
   "source": [
    "dfFT['best_iter'].plot(kind = 'hist', bins = 30)\n",
    "print(dfFT.shape)\n",
    "dfFT.sort_values('f1', ascending=False).head(5)"
   ]
  },
  {
   "cell_type": "code",
   "execution_count": 14,
   "metadata": {},
   "outputs": [
    {
     "data": {
      "image/png": "[encoded data removed]",
      "text/plain": [
       "<Figure size 720x288 with 1 Axes>"
      ]
     },
     "metadata": {},
     "output_type": "display_data"
    },
    {
     "name": "stdout",
     "output_type": "stream",
     "text": [
      "average:  92.942\n",
      "sd:  0.209635927794407\n",
      "max diff:  0.22999999999998977\n",
      "max diff perc:  0.0024773804394656374\n"
     ]
    }
   ],
   "source": [
    "plt.figure(figsize=(10,4))\n",
    "plt.boxplot(dfFT['f1'], vert=False, showmeans=True)\n",
    "plt.scatter(dfFT['f1'], np.repeat(1.1, len(dfFT['f1'])), alpha = 0.7)\n",
    "plt.show()\n",
    "print('average: ', np.mean(dfFT['f1']))\n",
    "print('sd: ', np.std(df['f1']))\n",
    "print('max diff: ', np.max(dfFT['f1']) - np.min(dfFT['f1']))\n",
    "print('max diff perc: ', (np.max(dfFT['f1']) - np.min(dfFT['f1']))/np.min(dfFT['f1']))"
   ]
  },
  {
   "cell_type": "markdown",
   "metadata": {},
   "source": [
    "##  FastText embeddings trained on train and dev set"
   ]
  },
  {
   "cell_type": "code",
   "execution_count": 15,
   "metadata": {},
   "outputs": [],
   "source": [
    "dfFTjoin = json2pandas(path2jsonsFTjoin, trajs = False, fixed_iter=None, verbose=False)"
   ]
  },
  {
   "cell_type": "code",
   "execution_count": 16,
   "metadata": {},
   "outputs": [
    {
     "name": "stdout",
     "output_type": "stream",
     "text": [
      "(2, 17)\n"
     ]
    },
    {
     "data": {
      "text/html": [
       "<div>\n",
       "<style scoped>\n",
       "    .dataframe tbody tr th:only-of-type {\n",
       "        vertical-align: middle;\n",
       "    }\n",
       "\n",
       "    .dataframe tbody tr th {\n",
       "        vertical-align: top;\n",
       "    }\n",
       "\n",
       "    .dataframe thead th {\n",
       "        text-align: right;\n",
       "    }\n",
       "</style>\n",
       "<table border=\"1\" class=\"dataframe\">\n",
       "  <thead>\n",
       "    <tr style=\"text-align: right;\">\n",
       "      <th></th>\n",
       "      <th>best_iter</th>\n",
       "      <th>char_embedding_size</th>\n",
       "      <th>char_hidden_layer_size</th>\n",
       "      <th>cpu_cores</th>\n",
       "      <th>dropout_rate</th>\n",
       "      <th>f1</th>\n",
       "      <th>feature_data</th>\n",
       "      <th>hidden_layer_size</th>\n",
       "      <th>nb_iter</th>\n",
       "      <th>nb_train_tokens</th>\n",
       "      <th>opt_decay_use</th>\n",
       "      <th>patience</th>\n",
       "      <th>precision</th>\n",
       "      <th>recall</th>\n",
       "      <th>time_elapsed</th>\n",
       "      <th>word_emb_dim</th>\n",
       "      <th>word_emb_train</th>\n",
       "    </tr>\n",
       "  </thead>\n",
       "  <tbody>\n",
       "    <tr>\n",
       "      <th>0</th>\n",
       "      <td>37</td>\n",
       "      <td>24</td>\n",
       "      <td>32</td>\n",
       "      <td>20</td>\n",
       "      <td>0.5</td>\n",
       "      <td>95.76</td>\n",
       "      <td>False</td>\n",
       "      <td>64</td>\n",
       "      <td>47</td>\n",
       "      <td>256145.0</td>\n",
       "      <td>False</td>\n",
       "      <td>10</td>\n",
       "      <td>95.97</td>\n",
       "      <td>95.55</td>\n",
       "      <td>0.0</td>\n",
       "      <td>25</td>\n",
       "      <td>True</td>\n",
       "    </tr>\n",
       "    <tr>\n",
       "      <th>0</th>\n",
       "      <td>21</td>\n",
       "      <td>24</td>\n",
       "      <td>32</td>\n",
       "      <td>20</td>\n",
       "      <td>0.5</td>\n",
       "      <td>95.49</td>\n",
       "      <td>False</td>\n",
       "      <td>64</td>\n",
       "      <td>31</td>\n",
       "      <td>256145.0</td>\n",
       "      <td>False</td>\n",
       "      <td>10</td>\n",
       "      <td>95.45</td>\n",
       "      <td>95.52</td>\n",
       "      <td>0.0</td>\n",
       "      <td>25</td>\n",
       "      <td>True</td>\n",
       "    </tr>\n",
       "  </tbody>\n",
       "</table>\n",
       "</div>"
      ],
      "text/plain": [
       "  best_iter char_embedding_size char_hidden_layer_size cpu_cores  \\\n",
       "0        37                  24                     32        20   \n",
       "0        21                  24                     32        20   \n",
       "\n",
       "   dropout_rate     f1 feature_data hidden_layer_size nb_iter  \\\n",
       "0           0.5  95.76        False                64      47   \n",
       "0           0.5  95.49        False                64      31   \n",
       "\n",
       "   nb_train_tokens opt_decay_use patience  precision  recall  time_elapsed  \\\n",
       "0         256145.0         False       10      95.97   95.55           0.0   \n",
       "0         256145.0         False       10      95.45   95.52           0.0   \n",
       "\n",
       "  word_emb_dim word_emb_train  \n",
       "0           25           True  \n",
       "0           25           True  "
      ]
     },
     "execution_count": 16,
     "metadata": {},
     "output_type": "execute_result"
    },
    {
     "data": {
      "image/png": "[encoded data removed]",
      "text/plain": [
       "<Figure size 432x288 with 1 Axes>"
      ]
     },
     "metadata": {},
     "output_type": "display_data"
    }
   ],
   "source": [
    "dfFTjoin['best_iter'].plot(kind = 'hist', bins = 30)\n",
    "print(dfFTjoin.shape)\n",
    "dfFTjoin.sort_values('f1', ascending=False).head(5)"
   ]
  },
  {
   "cell_type": "code",
   "execution_count": 18,
   "metadata": {},
   "outputs": [
    {
     "data": {
      "image/png": "[encoded data removed]",
      "text/plain": [
       "<Figure size 720x288 with 1 Axes>"
      ]
     },
     "metadata": {},
     "output_type": "display_data"
    }
   ],
   "source": [
    "plt.figure(figsize=(10,4))\n",
    "plt.boxplot(dfFTjoin['f1'], vert=False, showmeans=True)\n",
    "plt.scatter(dfFTjoin['f1'], np.repeat(1.1, len(dfFTjoin['f1'])), alpha = 0.7)\n",
    "plt.show()"
   ]
  },
  {
   "cell_type": "markdown",
   "metadata": {},
   "source": [
    "# Evaluation on test set"
   ]
  },
  {
   "cell_type": "markdown",
   "metadata": {},
   "source": [
    "## Decoding with yaset on the test set \n",
    "**Warning**: It takes an afternoon, you should directly fetch the results in `../results/conll_apply/30_runs/`"
   ]
  },
  {
   "cell_type": "code",
   "execution_count": 20,
   "metadata": {},
   "outputs": [],
   "source": [
    "path2test = '../data/bio_test.conll'\n",
    "path2models = '../results/bio/'\n",
    "path2outputs = '../results/conll_apply/30_runs/'\n",
    "\n",
    "for model in os.listdir(path2models):\n",
    "    path2model = path2models+model+'/'\n",
    "    ## uncomment following line to decode (long time)\n",
    "    #yaset_pred(path2model=path2model, pathgold=path2test, path2save=path2outputs)"
   ]
  },
  {
   "cell_type": "markdown",
   "metadata": {},
   "source": [
    "## Building results from prediction"
   ]
  },
  {
   "cell_type": "code",
   "execution_count": 22,
   "metadata": {},
   "outputs": [
    {
     "name": "stderr",
     "output_type": "stream",
     "text": [
      "  0%|          | 0/30 [00:00<?, ?it/s]"
     ]
    },
    {
     "name": "stdout",
     "output_type": "stream",
     "text": [
      "Predicted labels: ['LOC', 'PER', 'MISC', 'ORG']\n"
     ]
    },
    {
     "name": "stderr",
     "output_type": "stream",
     "text": [
      "  3%|▎         | 1/30 [00:01<00:38,  1.33s/it]"
     ]
    },
    {
     "name": "stdout",
     "output_type": "stream",
     "text": [
      "Predicted labels: ['LOC', 'PER', 'MISC', 'ORG']\n"
     ]
    },
    {
     "name": "stderr",
     "output_type": "stream",
     "text": [
      "  7%|▋         | 2/30 [00:02<00:35,  1.28s/it]"
     ]
    },
    {
     "name": "stdout",
     "output_type": "stream",
     "text": [
      "Predicted labels: ['LOC', 'PER', 'MISC', 'ORG']\n"
     ]
    },
    {
     "name": "stderr",
     "output_type": "stream",
     "text": [
      " 10%|█         | 3/30 [00:03<00:32,  1.19s/it]"
     ]
    },
    {
     "name": "stdout",
     "output_type": "stream",
     "text": [
      "Predicted labels: ['LOC', 'PER', 'MISC', 'ORG']\n"
     ]
    },
    {
     "name": "stderr",
     "output_type": "stream",
     "text": [
      " 13%|█▎        | 4/30 [00:04<00:30,  1.17s/it]"
     ]
    },
    {
     "name": "stdout",
     "output_type": "stream",
     "text": [
      "Predicted labels: ['LOC', 'PER', 'MISC', 'ORG']\n"
     ]
    },
    {
     "name": "stderr",
     "output_type": "stream",
     "text": [
      " 17%|█▋        | 5/30 [00:05<00:28,  1.14s/it]"
     ]
    },
    {
     "name": "stdout",
     "output_type": "stream",
     "text": [
      "Predicted labels: ['LOC', 'PER', 'MISC', 'ORG']\n"
     ]
    },
    {
     "name": "stderr",
     "output_type": "stream",
     "text": [
      " 20%|██        | 6/30 [00:06<00:27,  1.13s/it]"
     ]
    },
    {
     "name": "stdout",
     "output_type": "stream",
     "text": [
      "Predicted labels: ['LOC', 'PER', 'MISC', 'ORG']\n"
     ]
    },
    {
     "name": "stderr",
     "output_type": "stream",
     "text": [
      " 23%|██▎       | 7/30 [00:07<00:25,  1.11s/it]"
     ]
    },
    {
     "name": "stdout",
     "output_type": "stream",
     "text": [
      "Predicted labels: ['LOC', 'PER', 'MISC', 'ORG']\n"
     ]
    },
    {
     "name": "stderr",
     "output_type": "stream",
     "text": [
      " 27%|██▋       | 8/30 [00:08<00:24,  1.10s/it]"
     ]
    },
    {
     "name": "stdout",
     "output_type": "stream",
     "text": [
      "Predicted labels: ['LOC', 'PER', 'MISC', 'ORG']\n"
     ]
    },
    {
     "name": "stderr",
     "output_type": "stream",
     "text": [
      " 30%|███       | 9/30 [00:09<00:22,  1.09s/it]"
     ]
    },
    {
     "name": "stdout",
     "output_type": "stream",
     "text": [
      "Predicted labels: ['LOC', 'PER', 'MISC', 'ORG']\n"
     ]
    },
    {
     "name": "stderr",
     "output_type": "stream",
     "text": [
      " 33%|███▎      | 10/30 [00:10<00:21,  1.09s/it]"
     ]
    },
    {
     "name": "stdout",
     "output_type": "stream",
     "text": [
      "Predicted labels: ['LOC', 'PER', 'MISC', 'ORG']\n"
     ]
    },
    {
     "name": "stderr",
     "output_type": "stream",
     "text": [
      " 37%|███▋      | 11/30 [00:11<00:20,  1.08s/it]"
     ]
    },
    {
     "name": "stdout",
     "output_type": "stream",
     "text": [
      "Predicted labels: ['LOC', 'PER', 'MISC', 'ORG']\n"
     ]
    },
    {
     "name": "stderr",
     "output_type": "stream",
     "text": [
      " 40%|████      | 12/30 [00:12<00:19,  1.08s/it]"
     ]
    },
    {
     "name": "stdout",
     "output_type": "stream",
     "text": [
      "Predicted labels: ['LOC', 'PER', 'MISC', 'ORG']\n"
     ]
    },
    {
     "name": "stderr",
     "output_type": "stream",
     "text": [
      " 43%|████▎     | 13/30 [00:13<00:18,  1.08s/it]"
     ]
    },
    {
     "name": "stdout",
     "output_type": "stream",
     "text": [
      "Predicted labels: ['LOC', 'PER', 'MISC', 'ORG']\n"
     ]
    },
    {
     "name": "stderr",
     "output_type": "stream",
     "text": [
      " 47%|████▋     | 14/30 [00:15<00:17,  1.10s/it]"
     ]
    },
    {
     "name": "stdout",
     "output_type": "stream",
     "text": [
      "Predicted labels: ['LOC', 'PER', 'MISC', 'ORG']\n"
     ]
    },
    {
     "name": "stderr",
     "output_type": "stream",
     "text": [
      " 50%|█████     | 15/30 [00:16<00:16,  1.12s/it]"
     ]
    },
    {
     "name": "stdout",
     "output_type": "stream",
     "text": [
      "Predicted labels: ['LOC', 'PER', 'MISC', 'ORG']\n"
     ]
    },
    {
     "name": "stderr",
     "output_type": "stream",
     "text": [
      " 53%|█████▎    | 16/30 [00:18<00:15,  1.13s/it]"
     ]
    },
    {
     "name": "stdout",
     "output_type": "stream",
     "text": [
      "Predicted labels: ['LOC', 'PER', 'MISC', 'ORG']\n"
     ]
    },
    {
     "name": "stderr",
     "output_type": "stream",
     "text": [
      " 57%|█████▋    | 17/30 [00:19<00:14,  1.14s/it]"
     ]
    },
    {
     "name": "stdout",
     "output_type": "stream",
     "text": [
      "Predicted labels: ['LOC', 'PER', 'MISC', 'ORG']\n"
     ]
    },
    {
     "name": "stderr",
     "output_type": "stream",
     "text": [
      " 60%|██████    | 18/30 [00:20<00:13,  1.15s/it]"
     ]
    },
    {
     "name": "stdout",
     "output_type": "stream",
     "text": [
      "Predicted labels: ['LOC', 'PER', 'MISC', 'ORG']\n"
     ]
    },
    {
     "name": "stderr",
     "output_type": "stream",
     "text": [
      " 63%|██████▎   | 19/30 [00:21<00:12,  1.14s/it]"
     ]
    },
    {
     "name": "stdout",
     "output_type": "stream",
     "text": [
      "Predicted labels: ['LOC', 'PER', 'MISC', 'ORG']\n"
     ]
    },
    {
     "name": "stderr",
     "output_type": "stream",
     "text": [
      " 67%|██████▋   | 20/30 [00:22<00:11,  1.14s/it]"
     ]
    },
    {
     "name": "stdout",
     "output_type": "stream",
     "text": [
      "Predicted labels: ['LOC', 'PER', 'MISC', 'ORG']\n"
     ]
    },
    {
     "name": "stderr",
     "output_type": "stream",
     "text": [
      " 70%|███████   | 21/30 [00:23<00:10,  1.13s/it]"
     ]
    },
    {
     "name": "stdout",
     "output_type": "stream",
     "text": [
      "Predicted labels: ['LOC', 'PER', 'MISC', 'ORG']\n"
     ]
    },
    {
     "name": "stderr",
     "output_type": "stream",
     "text": [
      " 73%|███████▎  | 22/30 [00:24<00:09,  1.13s/it]"
     ]
    },
    {
     "name": "stdout",
     "output_type": "stream",
     "text": [
      "Predicted labels: ['LOC', 'PER', 'MISC', 'ORG']\n"
     ]
    },
    {
     "name": "stderr",
     "output_type": "stream",
     "text": [
      " 77%|███████▋  | 23/30 [00:26<00:08,  1.15s/it]"
     ]
    },
    {
     "name": "stdout",
     "output_type": "stream",
     "text": [
      "Predicted labels: ['LOC', 'PER', 'MISC', 'ORG']\n"
     ]
    },
    {
     "name": "stderr",
     "output_type": "stream",
     "text": [
      " 80%|████████  | 24/30 [00:27<00:06,  1.15s/it]"
     ]
    },
    {
     "name": "stdout",
     "output_type": "stream",
     "text": [
      "Predicted labels: ['LOC', 'PER', 'MISC', 'ORG']\n"
     ]
    },
    {
     "name": "stderr",
     "output_type": "stream",
     "text": [
      " 83%|████████▎ | 25/30 [00:28<00:05,  1.16s/it]"
     ]
    },
    {
     "name": "stdout",
     "output_type": "stream",
     "text": [
      "Predicted labels: ['LOC', 'PER', 'MISC', 'ORG']\n"
     ]
    },
    {
     "name": "stderr",
     "output_type": "stream",
     "text": [
      " 87%|████████▋ | 26/30 [00:30<00:04,  1.17s/it]"
     ]
    },
    {
     "name": "stdout",
     "output_type": "stream",
     "text": [
      "Predicted labels: ['LOC', 'PER', 'MISC', 'ORG']\n"
     ]
    },
    {
     "name": "stderr",
     "output_type": "stream",
     "text": [
      " 90%|█████████ | 27/30 [00:31<00:03,  1.17s/it]"
     ]
    },
    {
     "name": "stdout",
     "output_type": "stream",
     "text": [
      "Predicted labels: ['LOC', 'PER', 'MISC', 'ORG']\n"
     ]
    },
    {
     "name": "stderr",
     "output_type": "stream",
     "text": [
      " 93%|█████████▎| 28/30 [00:32<00:02,  1.17s/it]"
     ]
    },
    {
     "name": "stdout",
     "output_type": "stream",
     "text": [
      "Predicted labels: ['LOC', 'PER', 'MISC', 'ORG']\n"
     ]
    },
    {
     "name": "stderr",
     "output_type": "stream",
     "text": [
      " 97%|█████████▋| 29/30 [00:33<00:01,  1.17s/it]"
     ]
    },
    {
     "name": "stdout",
     "output_type": "stream",
     "text": [
      "Predicted labels: ['LOC', 'PER', 'MISC', 'ORG']\n"
     ]
    },
    {
     "name": "stderr",
     "output_type": "stream",
     "text": [
      "100%|██████████| 30/30 [00:34<00:00,  1.16s/it]\n"
     ]
    }
   ],
   "source": [
    "from tqdm import tqdm\n",
    "path2results = '../results/conll_apply/30_runs/'\n",
    "path2golds = '../data/test.conll'\n",
    "test_scores = []\n",
    "for folder in tqdm(os.listdir(path2results)):\n",
    "    path2pred = path2results + folder+'/'+'output-model-001.conll'\n",
    "    join_visu = visualizer(path2golds, path2pred, verbose = False)\n",
    "    test_scores.append(join_visu.score_predictions(average = 'micro', punct_ignore = True))\n"
   ]
  },
  {
   "cell_type": "code",
   "execution_count": 23,
   "metadata": {},
   "outputs": [
    {
     "data": {
      "text/plain": [
       "(30, 3)"
      ]
     },
     "execution_count": 23,
     "metadata": {},
     "output_type": "execute_result"
    }
   ],
   "source": [
    "test_df = pd.DataFrame(test_scores, columns=['precision', 'recall', 'f1', 'count'])\n",
    "#test_df.pivot(index=0, columns=1, values=2)\n",
    "test_df.drop(['count'], axis = 1, inplace = True)\n",
    "test_df.shape"
   ]
  },
  {
   "cell_type": "code",
   "execution_count": 24,
   "metadata": {},
   "outputs": [
    {
     "data": {
      "image/png": "[encoded data removed]",
      "text/plain": [
       "<Figure size 720x288 with 1 Axes>"
      ]
     },
     "metadata": {},
     "output_type": "display_data"
    },
    {
     "name": "stdout",
     "output_type": "stream",
     "text": [
      "average:  0.8730778731018206\n",
      "sd:  0.0040787288526100175\n",
      "max diff:  0.017627861444471815\n",
      "max diff perc:  2.039784782065076\n"
     ]
    }
   ],
   "source": [
    "plt.figure(figsize=(10,4))\n",
    "plt.boxplot(test_df['f1'], vert=False, showmeans=True)\n",
    "plt.scatter(test_df['f1'], np.repeat(1.1, len(test_df['f1'])), alpha = 0.7)\n",
    "plt.show()\n",
    "print('average: ', np.mean(test_df['f1']))\n",
    "print('sd: ', np.std(test_df['f1']))\n",
    "print('max diff: ', np.max(test_df['f1']) - np.min(test_df['f1']))\n",
    "print('max diff perc: ', 100*(np.max(test_df['f1']) - np.min(test_df['f1']))/np.min(test_df['f1']))"
   ]
  },
  {
   "cell_type": "markdown",
   "metadata": {},
   "source": [
    "# Mean time for one batch"
   ]
  },
  {
   "cell_type": "code",
   "execution_count": 39,
   "metadata": {},
   "outputs": [
    {
     "data": {
      "text/plain": [
       "30    30\n",
       "Name: cpu_cores, dtype: int64"
      ]
     },
     "execution_count": 39,
     "metadata": {},
     "output_type": "execute_result"
    }
   ],
   "source": [
    "df.cpu_cores.value_counts()"
   ]
  },
  {
   "cell_type": "code",
   "execution_count": 55,
   "metadata": {},
   "outputs": [
    {
     "name": "stdout",
     "output_type": "stream",
     "text": [
      "204567.0\n",
      "16\n",
      "nb_sents /s 0    45.605514\n",
      "dtype: float64\n",
      "nb_toks /s 0    505.630221\n",
      "dtype: float64\n"
     ]
    }
   ],
   "source": [
    "nb_train = np.mean(df.nb_train_tokens )\n",
    "print(nb_train)\n",
    "nb_sents = 18451\n",
    "df.mean_iter_time_s\n",
    "valid_time = pd.DataFrame([t for t in df.mean_iter_time_s if t < 500])\n",
    "print(len(valid_time))\n",
    "sent_sec = nb_sents / valid_time\n",
    "tok_sec = nb_train / valid_time\n",
    "print('nb_sents /s {}'.format(np.mean(sent_sec)))\n",
    "print('nb_toks /s {}'.format(np.mean(tok_sec)))"
   ]
  },
  {
   "cell_type": "code",
   "execution_count": 50,
   "metadata": {},
   "outputs": [
    {
     "data": {
      "text/plain": [
       "0    1156.0\n",
       "0     385.0\n",
       "0     402.0\n",
       "0     475.0\n",
       "0     395.0\n",
       "0    1168.0\n",
       "0     384.0\n",
       "0    1193.0\n",
       "0    1432.0\n",
       "0     387.0\n",
       "0     464.0\n",
       "0     416.0\n",
       "0     392.0\n",
       "0     419.0\n",
       "0     397.0\n",
       "0    1210.0\n",
       "0     399.0\n",
       "0     410.0\n",
       "0    1592.0\n",
       "0     928.0\n",
       "0     906.0\n",
       "0     890.0\n",
       "0     944.0\n",
       "0     931.0\n",
       "0     986.0\n",
       "0     406.0\n",
       "0     372.0\n",
       "0     896.0\n",
       "0     680.0\n",
       "0     396.0\n",
       "Name: mean_iter_time_s, dtype: float64"
      ]
     },
     "execution_count": 50,
     "metadata": {},
     "output_type": "execute_result"
    }
   ],
   "source": [
    "df.mean_iter_time_s"
   ]
  },
  {
   "cell_type": "code",
   "execution_count": 32,
   "metadata": {},
   "outputs": [
    {
     "data": {
      "text/plain": [
       "0    1183.0\n",
       "0    1157.0\n",
       "0    1367.0\n",
       "0    1423.0\n",
       "0    1465.0\n",
       "Name: mean_iter_time_s, dtype: float64"
      ]
     },
     "execution_count": 32,
     "metadata": {},
     "output_type": "execute_result"
    }
   ],
   "source": [
    "dfFT.mean_iter_time_s"
   ]
  },
  {
   "cell_type": "code",
   "execution_count": null,
   "metadata": {},
   "outputs": [],
   "source": []
  }
 ],
 "metadata": {
  "kernelspec": {
   "display_name": "Python 3",
   "language": "python",
   "name": "python3"
  },
  "language_info": {
   "codemirror_mode": {
    "name": "ipython",
    "version": 3
   },
   "file_extension": ".py",
   "mimetype": "text/x-python",
   "name": "python",
   "nbconvert_exporter": "python",
   "pygments_lexer": "ipython3",
   "version": "3.6.5"
  }
 },
 "nbformat": 4,
 "nbformat_minor": 2
}
