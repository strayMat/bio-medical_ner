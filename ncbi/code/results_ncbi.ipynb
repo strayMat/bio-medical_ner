{
 "cells": [
  {
   "cell_type": "markdown",
   "metadata": {},
   "source": [
    "# Explore experiences result on NCBI"
   ]
  },
  {
   "cell_type": "code",
   "execution_count": 2,
   "metadata": {},
   "outputs": [],
   "source": [
    "import sys\n",
    "sys.path.insert(1, '../../utils/')\n",
    "\n",
    "from resultsUtils import build_jsons, json2pandas\n",
    "from visuClass import visualizer\n",
    "\n",
    "import numpy as np\n",
    "import matplotlib.pyplot as plt \n",
    "\n",
    "\n",
    "%load_ext autoreload\n",
    "%autoreload 2"
   ]
  },
  {
   "cell_type": "markdown",
   "metadata": {},
   "source": [
    "# Build jsons"
   ]
  },
  {
   "cell_type": "code",
   "execution_count": 3,
   "metadata": {},
   "outputs": [],
   "source": [
    "# fetch results and store in different paths\n",
    "path2jsons = '../jsons/'"
   ]
  },
  {
   "cell_type": "code",
   "execution_count": 8,
   "metadata": {},
   "outputs": [
    {
     "name": "stderr",
     "output_type": "stream",
     "text": [
      "100%|██████████| 37/37 [01:12<00:00,  1.96s/it]"
     ]
    },
    {
     "name": "stdout",
     "output_type": "stream",
     "text": [
      "Collected 35 xperiences in ../results/ and stored all in ../jsons/\n"
     ]
    },
    {
     "name": "stderr",
     "output_type": "stream",
     "text": [
      "\n"
     ]
    }
   ],
   "source": [
    "build_jsons('../results/', path2jsons, show_path=False)"
   ]
  },
  {
   "cell_type": "markdown",
   "metadata": {},
   "source": [
    "# Analysis"
   ]
  },
  {
   "cell_type": "code",
   "execution_count": 3,
   "metadata": {},
   "outputs": [],
   "source": [
    "#!rm ../../jsons/.ipynb_checkpoints -rf"
   ]
  },
  {
   "cell_type": "code",
   "execution_count": 4,
   "metadata": {},
   "outputs": [],
   "source": [
    "df = json2pandas(path2jsons, trajs = False, fixed_iter=None, verbose=False)"
   ]
  },
  {
   "cell_type": "markdown",
   "metadata": {},
   "source": [
    "##  Pubmed embeddings"
   ]
  },
  {
   "cell_type": "code",
   "execution_count": 5,
   "metadata": {},
   "outputs": [
    {
     "name": "stdout",
     "output_type": "stream",
     "text": [
      "(30, 16)\n"
     ]
    },
    {
     "data": {
      "text/html": [
       "<div>\n",
       "<style scoped>\n",
       "    .dataframe tbody tr th:only-of-type {\n",
       "        vertical-align: middle;\n",
       "    }\n",
       "\n",
       "    .dataframe tbody tr th {\n",
       "        vertical-align: top;\n",
       "    }\n",
       "\n",
       "    .dataframe thead th {\n",
       "        text-align: right;\n",
       "    }\n",
       "</style>\n",
       "<table border=\"1\" class=\"dataframe\">\n",
       "  <thead>\n",
       "    <tr style=\"text-align: right;\">\n",
       "      <th></th>\n",
       "      <th>best_iter</th>\n",
       "      <th>char_embedding_size</th>\n",
       "      <th>char_hidden_layer_size</th>\n",
       "      <th>dropout_rate</th>\n",
       "      <th>f1</th>\n",
       "      <th>feature_data</th>\n",
       "      <th>hidden_layer_size</th>\n",
       "      <th>nb_iter</th>\n",
       "      <th>nb_train_tokens</th>\n",
       "      <th>opt_decay_use</th>\n",
       "      <th>patience</th>\n",
       "      <th>precision</th>\n",
       "      <th>recall</th>\n",
       "      <th>time_elapsed</th>\n",
       "      <th>word_emb_dim</th>\n",
       "      <th>word_emb_train</th>\n",
       "    </tr>\n",
       "  </thead>\n",
       "  <tbody>\n",
       "    <tr>\n",
       "      <th>0</th>\n",
       "      <td>20</td>\n",
       "      <td>24</td>\n",
       "      <td>32</td>\n",
       "      <td>0.5</td>\n",
       "      <td>78.80</td>\n",
       "      <td>False</td>\n",
       "      <td>64</td>\n",
       "      <td>30</td>\n",
       "      <td>128557.0</td>\n",
       "      <td>False</td>\n",
       "      <td>10</td>\n",
       "      <td>78.85</td>\n",
       "      <td>78.75</td>\n",
       "      <td>453.0</td>\n",
       "      <td>25</td>\n",
       "      <td>True</td>\n",
       "    </tr>\n",
       "    <tr>\n",
       "      <th>0</th>\n",
       "      <td>18</td>\n",
       "      <td>24</td>\n",
       "      <td>32</td>\n",
       "      <td>0.5</td>\n",
       "      <td>79.83</td>\n",
       "      <td>False</td>\n",
       "      <td>64</td>\n",
       "      <td>28</td>\n",
       "      <td>128557.0</td>\n",
       "      <td>False</td>\n",
       "      <td>10</td>\n",
       "      <td>79.04</td>\n",
       "      <td>80.62</td>\n",
       "      <td>62.0</td>\n",
       "      <td>25</td>\n",
       "      <td>True</td>\n",
       "    </tr>\n",
       "    <tr>\n",
       "      <th>0</th>\n",
       "      <td>15</td>\n",
       "      <td>24</td>\n",
       "      <td>32</td>\n",
       "      <td>0.5</td>\n",
       "      <td>79.33</td>\n",
       "      <td>False</td>\n",
       "      <td>64</td>\n",
       "      <td>25</td>\n",
       "      <td>128557.0</td>\n",
       "      <td>False</td>\n",
       "      <td>10</td>\n",
       "      <td>78.55</td>\n",
       "      <td>80.12</td>\n",
       "      <td>56.0</td>\n",
       "      <td>25</td>\n",
       "      <td>True</td>\n",
       "    </tr>\n",
       "    <tr>\n",
       "      <th>0</th>\n",
       "      <td>11</td>\n",
       "      <td>24</td>\n",
       "      <td>32</td>\n",
       "      <td>0.5</td>\n",
       "      <td>78.75</td>\n",
       "      <td>False</td>\n",
       "      <td>64</td>\n",
       "      <td>21</td>\n",
       "      <td>128557.0</td>\n",
       "      <td>False</td>\n",
       "      <td>10</td>\n",
       "      <td>78.75</td>\n",
       "      <td>78.75</td>\n",
       "      <td>47.0</td>\n",
       "      <td>25</td>\n",
       "      <td>True</td>\n",
       "    </tr>\n",
       "    <tr>\n",
       "      <th>0</th>\n",
       "      <td>19</td>\n",
       "      <td>24</td>\n",
       "      <td>32</td>\n",
       "      <td>0.5</td>\n",
       "      <td>79.24</td>\n",
       "      <td>False</td>\n",
       "      <td>64</td>\n",
       "      <td>29</td>\n",
       "      <td>128557.0</td>\n",
       "      <td>False</td>\n",
       "      <td>10</td>\n",
       "      <td>78.13</td>\n",
       "      <td>80.38</td>\n",
       "      <td>65.0</td>\n",
       "      <td>25</td>\n",
       "      <td>True</td>\n",
       "    </tr>\n",
       "  </tbody>\n",
       "</table>\n",
       "</div>"
      ],
      "text/plain": [
       "  best_iter char_embedding_size char_hidden_layer_size  dropout_rate     f1  \\\n",
       "0        20                  24                     32           0.5  78.80   \n",
       "0        18                  24                     32           0.5  79.83   \n",
       "0        15                  24                     32           0.5  79.33   \n",
       "0        11                  24                     32           0.5  78.75   \n",
       "0        19                  24                     32           0.5  79.24   \n",
       "\n",
       "  feature_data hidden_layer_size nb_iter  nb_train_tokens opt_decay_use  \\\n",
       "0        False                64      30         128557.0         False   \n",
       "0        False                64      28         128557.0         False   \n",
       "0        False                64      25         128557.0         False   \n",
       "0        False                64      21         128557.0         False   \n",
       "0        False                64      29         128557.0         False   \n",
       "\n",
       "  patience  precision  recall  time_elapsed word_emb_dim word_emb_train  \n",
       "0       10      78.85   78.75         453.0           25           True  \n",
       "0       10      79.04   80.62          62.0           25           True  \n",
       "0       10      78.55   80.12          56.0           25           True  \n",
       "0       10      78.75   78.75          47.0           25           True  \n",
       "0       10      78.13   80.38          65.0           25           True  "
      ]
     },
     "execution_count": 5,
     "metadata": {},
     "output_type": "execute_result"
    },
    {
     "data": {
      "image/png": "[encoded data removed]",
      "text/plain": [
       "<Figure size 432x288 with 1 Axes>"
      ]
     },
     "metadata": {},
     "output_type": "display_data"
    }
   ],
   "source": [
    "df['best_iter'].plot(kind = 'hist', bins = 30)\n",
    "df = df.iloc[:30]\n",
    "print(df.shape)\n",
    "df.head(5)"
   ]
  },
  {
   "cell_type": "code",
   "execution_count": 89,
   "metadata": {},
   "outputs": [
    {
     "data": {
      "image/png": "[encoded data removed]",
      "text/plain": [
       "<Figure size 720x288 with 1 Axes>"
      ]
     },
     "metadata": {},
     "output_type": "display_data"
    },
    {
     "name": "stdout",
     "output_type": "stream",
     "text": [
      "average:  79.26733333333333\n",
      "sd:  0.5916921121288958\n",
      "max diff:  2.6099999999999994\n",
      "max diff perc:  0.03345724907063196\n"
     ]
    }
   ],
   "source": [
    "plt.figure(figsize=(10,4))\n",
    "plt.boxplot(df['f1'], vert=False, showmeans=True)\n",
    "plt.scatter(df['f1'], np.repeat(1.1, len(df['f1'])), alpha = 0.5)\n",
    "plt.show()\n",
    "print('average: ', np.mean(df['f1']))\n",
    "print('sd: ', np.std(df['f1']))\n",
    "print('max diff: ', np.max(df['f1']) - np.min(df['f1']))\n",
    "print('max diff perc: ', (np.max(df['f1']) - np.min(df['f1']))/np.min(df['f1']))"
   ]
  },
  {
   "cell_type": "markdown",
   "metadata": {},
   "source": [
    "## Describe datasets"
   ]
  },
  {
   "cell_type": "code",
   "execution_count": null,
   "metadata": {},
   "outputs": [],
   "source": []
  }
 ],
 "metadata": {
  "kernelspec": {
   "display_name": "Python 3",
   "language": "python",
   "name": "python3"
  },
  "language_info": {
   "codemirror_mode": {
    "name": "ipython",
    "version": 3
   },
   "file_extension": ".py",
   "mimetype": "text/x-python",
   "name": "python",
   "nbconvert_exporter": "python",
   "pygments_lexer": "ipython3",
   "version": "3.6.5"
  }
 },
 "nbformat": 4,
 "nbformat_minor": 2
}
