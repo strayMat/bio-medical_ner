{
 "cells": [
  {
   "cell_type": "markdown",
   "metadata": {},
   "source": [
    "# Explore experiences result on NCBI"
   ]
  },
  {
   "cell_type": "code",
   "execution_count": 1,
   "metadata": {},
   "outputs": [],
   "source": [
    "import os \n",
    "import pandas as pd\n",
    "import numpy as np\n",
    "import matplotlib.pyplot as plt \n",
    "\n",
    "import random\n",
    "random.seed(12)\n",
    "\n",
    "import sys\n",
    "sys.path.insert(1, '../../utils_paper/')\n",
    "from resultsUtils import build_jsons, json2pandas\n",
    "from visuClass import visualizer, yaset_pred\n",
    "\n",
    "%load_ext autoreload\n",
    "%autoreload 2"
   ]
  },
  {
   "cell_type": "markdown",
   "metadata": {},
   "source": [
    "# Build jsons"
   ]
  },
  {
   "cell_type": "code",
   "execution_count": 2,
   "metadata": {},
   "outputs": [],
   "source": [
    "# fetch results and store in different paths\n",
    "path2jsons = '../jsons/'"
   ]
  },
  {
   "cell_type": "code",
   "execution_count": 3,
   "metadata": {},
   "outputs": [
    {
     "name": "stderr",
     "output_type": "stream",
     "text": [
      " 94%|█████████▍| 34/36 [01:04<00:03,  1.89s/it]"
     ]
    },
    {
     "name": "stdout",
     "output_type": "stream",
     "text": [
      "WARNING : Not complete experiment for ../results/ncbi/yaset-learn-ncbi-20180704-173444/yaset-learn-20180704-173444.log!\n"
     ]
    },
    {
     "name": "stderr",
     "output_type": "stream",
     "text": [
      "100%|██████████| 36/36 [01:06<00:00,  1.84s/it]"
     ]
    },
    {
     "name": "stdout",
     "output_type": "stream",
     "text": [
      "Collected 35 xperiences in ../results/ncbi/ and stored all in ../jsons/\n"
     ]
    },
    {
     "name": "stderr",
     "output_type": "stream",
     "text": [
      "\n"
     ]
    }
   ],
   "source": [
    "build_jsons('../results/ncbi/', path2jsons, show_path=False)"
   ]
  },
  {
   "cell_type": "markdown",
   "metadata": {},
   "source": [
    "# Analysis"
   ]
  },
  {
   "cell_type": "code",
   "execution_count": 3,
   "metadata": {},
   "outputs": [],
   "source": [
    "#!rm ../../jsons/.ipynb_checkpoints -rf"
   ]
  },
  {
   "cell_type": "code",
   "execution_count": 8,
   "metadata": {},
   "outputs": [],
   "source": [
    "df = json2pandas(path2jsons, trajs = False, fixed_iter=None, verbose=False)"
   ]
  },
  {
   "cell_type": "markdown",
   "metadata": {},
   "source": [
    "##  Pubmed embeddings"
   ]
  },
  {
   "cell_type": "code",
   "execution_count": 9,
   "metadata": {},
   "outputs": [
    {
     "name": "stdout",
     "output_type": "stream",
     "text": [
      "(30, 17)\n"
     ]
    },
    {
     "data": {
      "text/html": [
       "<div>\n",
       "<style scoped>\n",
       "    .dataframe tbody tr th:only-of-type {\n",
       "        vertical-align: middle;\n",
       "    }\n",
       "\n",
       "    .dataframe tbody tr th {\n",
       "        vertical-align: top;\n",
       "    }\n",
       "\n",
       "    .dataframe thead th {\n",
       "        text-align: right;\n",
       "    }\n",
       "</style>\n",
       "<table border=\"1\" class=\"dataframe\">\n",
       "  <thead>\n",
       "    <tr style=\"text-align: right;\">\n",
       "      <th></th>\n",
       "      <th>best_iter</th>\n",
       "      <th>char_embedding_size</th>\n",
       "      <th>char_hidden_layer_size</th>\n",
       "      <th>cpu_cores</th>\n",
       "      <th>dropout_rate</th>\n",
       "      <th>f1</th>\n",
       "      <th>feature_data</th>\n",
       "      <th>hidden_layer_size</th>\n",
       "      <th>nb_iter</th>\n",
       "      <th>nb_train_tokens</th>\n",
       "      <th>opt_decay_use</th>\n",
       "      <th>patience</th>\n",
       "      <th>precision</th>\n",
       "      <th>recall</th>\n",
       "      <th>time_elapsed</th>\n",
       "      <th>word_emb_dim</th>\n",
       "      <th>word_emb_train</th>\n",
       "    </tr>\n",
       "  </thead>\n",
       "  <tbody>\n",
       "    <tr>\n",
       "      <th>0</th>\n",
       "      <td>20</td>\n",
       "      <td>24</td>\n",
       "      <td>32</td>\n",
       "      <td>30</td>\n",
       "      <td>0.5</td>\n",
       "      <td>78.80</td>\n",
       "      <td>False</td>\n",
       "      <td>64</td>\n",
       "      <td>30</td>\n",
       "      <td>128557.0</td>\n",
       "      <td>False</td>\n",
       "      <td>10</td>\n",
       "      <td>78.85</td>\n",
       "      <td>78.75</td>\n",
       "      <td>453.0</td>\n",
       "      <td>25</td>\n",
       "      <td>True</td>\n",
       "    </tr>\n",
       "    <tr>\n",
       "      <th>0</th>\n",
       "      <td>18</td>\n",
       "      <td>24</td>\n",
       "      <td>32</td>\n",
       "      <td>30</td>\n",
       "      <td>0.5</td>\n",
       "      <td>79.83</td>\n",
       "      <td>False</td>\n",
       "      <td>64</td>\n",
       "      <td>28</td>\n",
       "      <td>128557.0</td>\n",
       "      <td>False</td>\n",
       "      <td>10</td>\n",
       "      <td>79.04</td>\n",
       "      <td>80.62</td>\n",
       "      <td>62.0</td>\n",
       "      <td>25</td>\n",
       "      <td>True</td>\n",
       "    </tr>\n",
       "    <tr>\n",
       "      <th>0</th>\n",
       "      <td>15</td>\n",
       "      <td>24</td>\n",
       "      <td>32</td>\n",
       "      <td>30</td>\n",
       "      <td>0.5</td>\n",
       "      <td>79.33</td>\n",
       "      <td>False</td>\n",
       "      <td>64</td>\n",
       "      <td>25</td>\n",
       "      <td>128557.0</td>\n",
       "      <td>False</td>\n",
       "      <td>10</td>\n",
       "      <td>78.55</td>\n",
       "      <td>80.12</td>\n",
       "      <td>56.0</td>\n",
       "      <td>25</td>\n",
       "      <td>True</td>\n",
       "    </tr>\n",
       "    <tr>\n",
       "      <th>0</th>\n",
       "      <td>11</td>\n",
       "      <td>24</td>\n",
       "      <td>32</td>\n",
       "      <td>30</td>\n",
       "      <td>0.5</td>\n",
       "      <td>78.75</td>\n",
       "      <td>False</td>\n",
       "      <td>64</td>\n",
       "      <td>21</td>\n",
       "      <td>128557.0</td>\n",
       "      <td>False</td>\n",
       "      <td>10</td>\n",
       "      <td>78.75</td>\n",
       "      <td>78.75</td>\n",
       "      <td>47.0</td>\n",
       "      <td>25</td>\n",
       "      <td>True</td>\n",
       "    </tr>\n",
       "    <tr>\n",
       "      <th>0</th>\n",
       "      <td>19</td>\n",
       "      <td>24</td>\n",
       "      <td>32</td>\n",
       "      <td>30</td>\n",
       "      <td>0.5</td>\n",
       "      <td>79.24</td>\n",
       "      <td>False</td>\n",
       "      <td>64</td>\n",
       "      <td>29</td>\n",
       "      <td>128557.0</td>\n",
       "      <td>False</td>\n",
       "      <td>10</td>\n",
       "      <td>78.13</td>\n",
       "      <td>80.38</td>\n",
       "      <td>65.0</td>\n",
       "      <td>25</td>\n",
       "      <td>True</td>\n",
       "    </tr>\n",
       "  </tbody>\n",
       "</table>\n",
       "</div>"
      ],
      "text/plain": [
       "  best_iter char_embedding_size char_hidden_layer_size cpu_cores  \\\n",
       "0        20                  24                     32        30   \n",
       "0        18                  24                     32        30   \n",
       "0        15                  24                     32        30   \n",
       "0        11                  24                     32        30   \n",
       "0        19                  24                     32        30   \n",
       "\n",
       "   dropout_rate     f1 feature_data hidden_layer_size nb_iter  \\\n",
       "0           0.5  78.80        False                64      30   \n",
       "0           0.5  79.83        False                64      28   \n",
       "0           0.5  79.33        False                64      25   \n",
       "0           0.5  78.75        False                64      21   \n",
       "0           0.5  79.24        False                64      29   \n",
       "\n",
       "   nb_train_tokens opt_decay_use patience  precision  recall  time_elapsed  \\\n",
       "0         128557.0         False       10      78.85   78.75         453.0   \n",
       "0         128557.0         False       10      79.04   80.62          62.0   \n",
       "0         128557.0         False       10      78.55   80.12          56.0   \n",
       "0         128557.0         False       10      78.75   78.75          47.0   \n",
       "0         128557.0         False       10      78.13   80.38          65.0   \n",
       "\n",
       "  word_emb_dim word_emb_train  \n",
       "0           25           True  \n",
       "0           25           True  \n",
       "0           25           True  \n",
       "0           25           True  \n",
       "0           25           True  "
      ]
     },
     "execution_count": 9,
     "metadata": {},
     "output_type": "execute_result"
    },
    {
     "data": {
      "image/png": "[encoded data removed]",
      "text/plain": [
       "<Figure size 432x288 with 1 Axes>"
      ]
     },
     "metadata": {},
     "output_type": "display_data"
    }
   ],
   "source": [
    "df['best_iter'].plot(kind = 'hist', bins = 30)\n",
    "df = df.iloc[:30]\n",
    "print(df.shape)\n",
    "df.head(5)"
   ]
  },
  {
   "cell_type": "code",
   "execution_count": 10,
   "metadata": {},
   "outputs": [
    {
     "data": {
      "image/png": "[encoded data removed]",
      "text/plain": [
       "<Figure size 720x288 with 1 Axes>"
      ]
     },
     "metadata": {},
     "output_type": "display_data"
    },
    {
     "name": "stdout",
     "output_type": "stream",
     "text": [
      "average:  79.26733333333333\n",
      "sd:  0.5916921121288958\n",
      "max diff:  2.6099999999999994\n",
      "max diff perc:  0.03345724907063196\n"
     ]
    }
   ],
   "source": [
    "plt.figure(figsize=(10,4))\n",
    "plt.boxplot(df['f1'], vert=False, showmeans=True)\n",
    "plt.scatter(df['f1'], np.repeat(1.1, len(df['f1'])), alpha = 0.5)\n",
    "plt.show()\n",
    "print('average: ', np.mean(df['f1']))\n",
    "print('sd: ', np.std(df['f1']))\n",
    "print('max diff: ', np.max(df['f1']) - np.min(df['f1']))\n",
    "print('max diff perc: ', (np.max(df['f1']) - np.min(df['f1']))/np.min(df['f1']))"
   ]
  },
  {
   "cell_type": "markdown",
   "metadata": {},
   "source": [
    "## Evaluation on the test set\n",
    "Take long time, prefer to exploit the preprocessed results in /results/ncbi_apply"
   ]
  },
  {
   "cell_type": "code",
   "execution_count": 11,
   "metadata": {},
   "outputs": [],
   "source": [
    "path2test = '../data/ncbi_test.conll'\n",
    "path2models = '../results/ncbi/'\n",
    "path2outputs = '../results/ncbi_apply/'\n",
    "\n",
    "for model in os.listdir(path2models):\n",
    "    path2model = path2models+model+'/'\n",
    "    #yaset_pred(path2model=path2model, pathgold=path2test, path2save=path2outputs)"
   ]
  },
  {
   "cell_type": "code",
   "execution_count": 12,
   "metadata": {},
   "outputs": [
    {
     "name": "stderr",
     "output_type": "stream",
     "text": [
      "  3%|▎         | 1/36 [00:00<00:11,  2.94it/s]"
     ]
    },
    {
     "name": "stdout",
     "output_type": "stream",
     "text": [
      "Predicted labels: ['Modifier', 'SpecificDisease', 'DiseaseClass', 'CompositeMention']\n"
     ]
    },
    {
     "name": "stderr",
     "output_type": "stream",
     "text": [
      "  6%|▌         | 2/36 [00:00<00:09,  3.61it/s]"
     ]
    },
    {
     "name": "stdout",
     "output_type": "stream",
     "text": [
      "Predicted labels: ['Modifier', 'SpecificDisease', 'DiseaseClass', 'CompositeMention']\n",
      "Predicted labels: ['Modifier', 'SpecificDisease', 'DiseaseClass', 'CompositeMention']\n"
     ]
    },
    {
     "name": "stderr",
     "output_type": "stream",
     "text": [
      " 11%|█         | 4/36 [00:01<00:09,  3.49it/s]"
     ]
    },
    {
     "name": "stdout",
     "output_type": "stream",
     "text": [
      "Predicted labels: ['Modifier', 'SpecificDisease', 'DiseaseClass', 'CompositeMention']\n"
     ]
    },
    {
     "name": "stderr",
     "output_type": "stream",
     "text": [
      " 14%|█▍        | 5/36 [00:01<00:08,  3.49it/s]"
     ]
    },
    {
     "name": "stdout",
     "output_type": "stream",
     "text": [
      "Predicted labels: ['Modifier', 'SpecificDisease', 'DiseaseClass', 'CompositeMention']\n"
     ]
    },
    {
     "name": "stderr",
     "output_type": "stream",
     "text": [
      " 17%|█▋        | 6/36 [00:01<00:08,  3.67it/s]"
     ]
    },
    {
     "name": "stdout",
     "output_type": "stream",
     "text": [
      "Predicted labels: ['Modifier', 'SpecificDisease', 'DiseaseClass', 'CompositeMention']\n",
      "Predicted labels: ['Modifier', 'SpecificDisease', 'DiseaseClass', 'CompositeMention']\n"
     ]
    },
    {
     "name": "stderr",
     "output_type": "stream",
     "text": [
      " 22%|██▏       | 8/36 [00:02<00:07,  3.94it/s]"
     ]
    },
    {
     "name": "stdout",
     "output_type": "stream",
     "text": [
      "Predicted labels: ['Modifier', 'SpecificDisease', 'DiseaseClass', 'CompositeMention']\n"
     ]
    },
    {
     "name": "stderr",
     "output_type": "stream",
     "text": [
      " 25%|██▌       | 9/36 [00:02<00:06,  3.94it/s]"
     ]
    },
    {
     "name": "stdout",
     "output_type": "stream",
     "text": [
      "Predicted labels: ['Modifier', 'SpecificDisease', 'DiseaseClass', 'CompositeMention']\n",
      "Predicted labels: ['Modifier', 'SpecificDisease', 'DiseaseClass', 'CompositeMention']\n"
     ]
    },
    {
     "name": "stderr",
     "output_type": "stream",
     "text": [
      " 31%|███       | 11/36 [00:02<00:06,  4.09it/s]"
     ]
    },
    {
     "name": "stdout",
     "output_type": "stream",
     "text": [
      "Predicted labels: ['Modifier', 'SpecificDisease', 'DiseaseClass', 'CompositeMention']\n"
     ]
    },
    {
     "name": "stderr",
     "output_type": "stream",
     "text": [
      " 36%|███▌      | 13/36 [00:03<00:05,  4.20it/s]"
     ]
    },
    {
     "name": "stdout",
     "output_type": "stream",
     "text": [
      "Predicted labels: ['Modifier', 'SpecificDisease', 'DiseaseClass', 'CompositeMention']\n",
      "Predicted labels: ['Modifier', 'SpecificDisease', 'DiseaseClass', 'CompositeMention']\n",
      "Predicted labels: ['Modifier', 'SpecificDisease', 'DiseaseClass', 'CompositeMention']\n"
     ]
    },
    {
     "name": "stderr",
     "output_type": "stream",
     "text": [
      " 42%|████▏     | 15/36 [00:03<00:04,  4.23it/s]"
     ]
    },
    {
     "name": "stdout",
     "output_type": "stream",
     "text": [
      "Predicted labels: ['Modifier', 'SpecificDisease', 'DiseaseClass', 'CompositeMention']\n",
      "Predicted labels: ['Modifier', 'SpecificDisease', 'DiseaseClass', 'CompositeMention']\n"
     ]
    },
    {
     "name": "stderr",
     "output_type": "stream",
     "text": [
      " 47%|████▋     | 17/36 [00:03<00:04,  4.31it/s]"
     ]
    },
    {
     "name": "stdout",
     "output_type": "stream",
     "text": [
      "Predicted labels: ['Modifier', 'SpecificDisease', 'DiseaseClass', 'CompositeMention']\n",
      "Predicted labels: ['Modifier', 'SpecificDisease', 'DiseaseClass', 'CompositeMention']\n"
     ]
    },
    {
     "name": "stderr",
     "output_type": "stream",
     "text": [
      " 53%|█████▎    | 19/36 [00:04<00:03,  4.32it/s]"
     ]
    },
    {
     "name": "stdout",
     "output_type": "stream",
     "text": [
      "Predicted labels: ['Modifier', 'SpecificDisease', 'DiseaseClass', 'CompositeMention']\n",
      "Predicted labels: ['Modifier', 'SpecificDisease', 'DiseaseClass', 'CompositeMention']\n"
     ]
    },
    {
     "name": "stderr",
     "output_type": "stream",
     "text": [
      " 58%|█████▊    | 21/36 [00:04<00:03,  4.37it/s]"
     ]
    },
    {
     "name": "stdout",
     "output_type": "stream",
     "text": [
      "Predicted labels: ['Modifier', 'SpecificDisease', 'DiseaseClass', 'CompositeMention']\n",
      "Predicted labels: ['Modifier', 'SpecificDisease', 'DiseaseClass', 'CompositeMention']\n"
     ]
    },
    {
     "name": "stderr",
     "output_type": "stream",
     "text": [
      " 64%|██████▍   | 23/36 [00:05<00:02,  4.42it/s]"
     ]
    },
    {
     "name": "stdout",
     "output_type": "stream",
     "text": [
      "Predicted labels: ['Modifier', 'SpecificDisease', 'DiseaseClass', 'CompositeMention']\n",
      "Predicted labels: ['Modifier', 'SpecificDisease', 'DiseaseClass', 'CompositeMention']\n"
     ]
    },
    {
     "name": "stderr",
     "output_type": "stream",
     "text": [
      " 69%|██████▉   | 25/36 [00:05<00:02,  4.42it/s]"
     ]
    },
    {
     "name": "stdout",
     "output_type": "stream",
     "text": [
      "Predicted labels: ['Modifier', 'SpecificDisease', 'DiseaseClass', 'CompositeMention']\n",
      "Predicted labels: ['Modifier', 'SpecificDisease', 'DiseaseClass', 'CompositeMention']\n"
     ]
    },
    {
     "name": "stderr",
     "output_type": "stream",
     "text": [
      " 75%|███████▌  | 27/36 [00:06<00:02,  4.46it/s]"
     ]
    },
    {
     "name": "stdout",
     "output_type": "stream",
     "text": [
      "Predicted labels: ['Modifier', 'SpecificDisease', 'DiseaseClass', 'CompositeMention']\n",
      "Predicted labels: ['Modifier', 'SpecificDisease', 'DiseaseClass', 'CompositeMention']\n"
     ]
    },
    {
     "name": "stderr",
     "output_type": "stream",
     "text": [
      " 81%|████████  | 29/36 [00:06<00:01,  4.45it/s]"
     ]
    },
    {
     "name": "stdout",
     "output_type": "stream",
     "text": [
      "Predicted labels: ['Modifier', 'SpecificDisease', 'DiseaseClass', 'CompositeMention']\n",
      "Predicted labels: ['Modifier', 'SpecificDisease', 'DiseaseClass', 'CompositeMention']\n"
     ]
    },
    {
     "name": "stderr",
     "output_type": "stream",
     "text": [
      " 86%|████████▌ | 31/36 [00:06<00:01,  4.49it/s]"
     ]
    },
    {
     "name": "stdout",
     "output_type": "stream",
     "text": [
      "Predicted labels: ['Modifier', 'SpecificDisease', 'DiseaseClass', 'CompositeMention']\n",
      "Predicted labels: ['Modifier', 'SpecificDisease', 'DiseaseClass', 'CompositeMention']\n"
     ]
    },
    {
     "name": "stderr",
     "output_type": "stream",
     "text": [
      " 92%|█████████▏| 33/36 [00:07<00:00,  4.51it/s]"
     ]
    },
    {
     "name": "stdout",
     "output_type": "stream",
     "text": [
      "Predicted labels: ['Modifier', 'SpecificDisease', 'DiseaseClass', 'CompositeMention']\n",
      "Predicted labels: ['Modifier', 'SpecificDisease', 'DiseaseClass', 'CompositeMention']\n"
     ]
    },
    {
     "name": "stderr",
     "output_type": "stream",
     "text": [
      " 94%|█████████▍| 34/36 [00:07<00:00,  4.53it/s]"
     ]
    },
    {
     "name": "stdout",
     "output_type": "stream",
     "text": [
      "../results/ncbi_apply/yaset-apply-20180706-151745 is uncomplete experiment\n",
      "Predicted labels: ['Modifier', 'SpecificDisease', 'DiseaseClass', 'CompositeMention']\n"
     ]
    },
    {
     "name": "stderr",
     "output_type": "stream",
     "text": [
      "100%|██████████| 36/36 [00:07<00:00,  4.64it/s]\n"
     ]
    }
   ],
   "source": [
    "from tqdm import tqdm\n",
    "path2results = '../results/ncbi_apply/'\n",
    "path2golds = '../data/ncbi_test.conll'\n",
    "test_scores = []\n",
    "for folder in tqdm(os.listdir(path2results)):\n",
    "    path2pred = path2results + folder+'/'+'output-model-001.conll'\n",
    "    if not os.path.isfile(path2pred):\n",
    "        print(path2results+folder, 'is uncomplete experiment')\n",
    "    else:\n",
    "        join_visu = visualizer(path2golds, path2pred, verbose = False)\n",
    "        test_scores.append(join_visu.score_predictions(average = 'micro', punct_ignore = True))\n"
   ]
  },
  {
   "cell_type": "code",
   "execution_count": 13,
   "metadata": {},
   "outputs": [
    {
     "data": {
      "text/plain": [
       "(30, 3)"
      ]
     },
     "execution_count": 13,
     "metadata": {},
     "output_type": "execute_result"
    }
   ],
   "source": [
    "test_df = pd.DataFrame(test_scores, columns=['precision', 'recall', 'f1', 'count'])\n",
    "#test_df.pivot(index=0, columns=1, values=2)\n",
    "test_df.drop(['count'], axis = 1, inplace = True)\n",
    "test_df = test_df.iloc[:30]\n",
    "test_df.shape"
   ]
  },
  {
   "cell_type": "code",
   "execution_count": 14,
   "metadata": {},
   "outputs": [
    {
     "data": {
      "image/png": "[encoded data removed]",
      "text/plain": [
       "<Figure size 720x288 with 1 Axes>"
      ]
     },
     "metadata": {},
     "output_type": "display_data"
    },
    {
     "name": "stdout",
     "output_type": "stream",
     "text": [
      "average:  0.8133358379603328\n",
      "sd:  0.00826956966354127\n",
      "max diff:  0.03268594213385745\n",
      "max diff perc:  4.0893638090660644\n"
     ]
    }
   ],
   "source": [
    "plt.figure(figsize=(10,4))\n",
    "plt.boxplot(test_df['f1'], vert=False, showmeans=True)\n",
    "plt.scatter(test_df['f1'], np.repeat(1.1, len(test_df['f1'])), alpha = 0.7)\n",
    "plt.show()\n",
    "print('average: ', np.mean(test_df['f1']))\n",
    "print('sd: ', np.std(test_df['f1']))\n",
    "print('max diff: ', np.max(test_df['f1']) - np.min(test_df['f1']))\n",
    "print('max diff perc: ', 100*(np.max(test_df['f1']) - np.min(test_df['f1']))/np.min(test_df['f1']))"
   ]
  },
  {
   "cell_type": "markdown",
   "metadata": {},
   "source": [
    "## Mean iter time on train"
   ]
  },
  {
   "cell_type": "code",
   "execution_count": 5,
   "metadata": {},
   "outputs": [
    {
     "data": {
      "text/plain": [
       "30    35\n",
       "Name: cpu_cores, dtype: int64"
      ]
     },
     "execution_count": 5,
     "metadata": {},
     "output_type": "execute_result"
    }
   ],
   "source": [
    "df.cpu_cores.value_counts()"
   ]
  },
  {
   "cell_type": "code",
   "execution_count": 15,
   "metadata": {},
   "outputs": [
    {
     "name": "stdout",
     "output_type": "stream",
     "text": [
      "128557.0\n",
      "18\n",
      "nb_sents /s 0    58.977958\n",
      "dtype: float64\n",
      "nb_toks /s 0    1041.630633\n",
      "dtype: float64\n"
     ]
    }
   ],
   "source": [
    "nb_train = np.mean(df.nb_train_tokens )\n",
    "print(nb_train)\n",
    "nb_sents = 7279\n",
    "df.mean_iter_time_s\n",
    "valid_time = pd.DataFrame([t for t in df.mean_iter_time_s if t < 150])\n",
    "print(len(valid_time))\n",
    "sent_sec = nb_sents / valid_time\n",
    "tok_sec = nb_train / valid_time\n",
    "print('nb_sents /s {}'.format(np.mean(sent_sec)))\n",
    "print('nb_toks /s {}'.format(np.mean(tok_sec)))"
   ]
  },
  {
   "cell_type": "code",
   "execution_count": 14,
   "metadata": {},
   "outputs": [
    {
     "data": {
      "text/plain": [
       "0    857.0\n",
       "0    122.0\n",
       "0    121.0\n",
       "0    122.0\n",
       "0    123.0\n",
       "0    121.0\n",
       "0    123.0\n",
       "0    123.0\n",
       "0    124.0\n",
       "0    123.0\n",
       "0    123.0\n",
       "0    123.0\n",
       "0    122.0\n",
       "0    122.0\n",
       "0    122.0\n",
       "0    123.0\n",
       "0    246.0\n",
       "0    246.0\n",
       "0    242.0\n",
       "0    247.0\n",
       "0    123.0\n",
       "0    168.0\n",
       "0    246.0\n",
       "0    127.0\n",
       "0    136.0\n",
       "0    243.0\n",
       "0    246.0\n",
       "0    162.0\n",
       "0    168.0\n",
       "0    245.0\n",
       "0    166.0\n",
       "0    180.0\n",
       "0    247.0\n",
       "0    196.0\n",
       "0    172.0\n",
       "Name: mean_iter_time_s, dtype: float64"
      ]
     },
     "execution_count": 14,
     "metadata": {},
     "output_type": "execute_result"
    }
   ],
   "source": [
    "df.mean_iter_time_s"
   ]
  },
  {
   "cell_type": "code",
   "execution_count": null,
   "metadata": {},
   "outputs": [],
   "source": []
  }
 ],
 "metadata": {
  "kernelspec": {
   "display_name": "Python 3",
   "language": "python",
   "name": "python3"
  },
  "language_info": {
   "codemirror_mode": {
    "name": "ipython",
    "version": 3
   },
   "file_extension": ".py",
   "mimetype": "text/x-python",
   "name": "python",
   "nbconvert_exporter": "python",
   "pygments_lexer": "ipython3",
   "version": "3.6.5"
  }
 },
 "nbformat": 4,
 "nbformat_minor": 2
}
